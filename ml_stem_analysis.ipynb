{
 "cells": [
  {
   "cell_type": "markdown",
   "metadata": {},
   "source": [
    "# Stage 1\n",
    "\n",
    "### Calculate % growth of funding between year 2008 & 2009."
   ]
  },
  {
   "cell_type": "code",
   "execution_count": 1,
   "metadata": {
    "collapsed": true
   },
   "outputs": [],
   "source": [
    "import pandas as pd"
   ]
  },
  {
   "cell_type": "code",
   "execution_count": 2,
   "metadata": {
    "collapsed": true
   },
   "outputs": [],
   "source": [
    "excel_file='EduData.xls'"
   ]
  },
  {
   "cell_type": "code",
   "execution_count": 3,
   "metadata": {
    "collapsed": true
   },
   "outputs": [],
   "source": [
    "data=pd.read_excel(excel_file)"
   ]
  },
  {
   "cell_type": "code",
   "execution_count": 4,
   "metadata": {},
   "outputs": [
    {
     "data": {
      "text/html": [
       "<div>\n",
       "<style>\n",
       "    .dataframe thead tr:only-child th {\n",
       "        text-align: right;\n",
       "    }\n",
       "\n",
       "    .dataframe thead th {\n",
       "        text-align: left;\n",
       "    }\n",
       "\n",
       "    .dataframe tbody tr th {\n",
       "        vertical-align: top;\n",
       "    }\n",
       "</style>\n",
       "<table border=\"1\" class=\"dataframe\">\n",
       "  <thead>\n",
       "    <tr style=\"text-align: right;\">\n",
       "      <th></th>\n",
       "      <th>PROGRAM</th>\n",
       "      <th>Unnamed: 1</th>\n",
       "      <th>Unnamed: 2</th>\n",
       "      <th>Unnamed: 3</th>\n",
       "      <th>FUNDING</th>\n",
       "      <th>Unnamed: 5</th>\n",
       "      <th>Unnamed: 6</th>\n",
       "      <th>Unnamed: 7</th>\n",
       "      <th>Unnamed: 8</th>\n",
       "      <th>Unnamed: 9</th>\n",
       "      <th>...</th>\n",
       "      <th>Unnamed: 245</th>\n",
       "      <th>Unnamed: 246</th>\n",
       "      <th>Unnamed: 247</th>\n",
       "      <th>Unnamed: 248</th>\n",
       "      <th>Unnamed: 249</th>\n",
       "      <th>Unnamed: 250</th>\n",
       "      <th>Unnamed: 251</th>\n",
       "      <th>Unnamed: 252</th>\n",
       "      <th>Unnamed: 253</th>\n",
       "      <th>Unnamed: 254</th>\n",
       "    </tr>\n",
       "  </thead>\n",
       "  <tbody>\n",
       "    <tr>\n",
       "      <th>Index Number</th>\n",
       "      <td>Investment Name</td>\n",
       "      <td>Agency</td>\n",
       "      <td>Subagency</td>\n",
       "      <td>A) Brief Description</td>\n",
       "      <td>B) Year Established</td>\n",
       "      <td>C1) Funding FY2008</td>\n",
       "      <td>C2) Funding FY2009</td>\n",
       "      <td>C3) Funding FY2010</td>\n",
       "      <td>D) Mission-specific or General STEM?</td>\n",
       "      <td>E) Agency or Mission-Related Workforce Needs?</td>\n",
       "      <td>...</td>\n",
       "      <td>NaN</td>\n",
       "      <td>NaN</td>\n",
       "      <td>Y3) Process or Implementation Evaluation Type</td>\n",
       "      <td>NaN</td>\n",
       "      <td>NaN</td>\n",
       "      <td>Y4) Portfolio Evaluation/Review Type</td>\n",
       "      <td>NaN</td>\n",
       "      <td>NaN</td>\n",
       "      <td>Y5) Expert Review Type</td>\n",
       "      <td>NaN</td>\n",
       "    </tr>\n",
       "    <tr>\n",
       "      <th>PRG_0001</th>\n",
       "      <td>Centers for Ocean Sciences Education Excellence ~</td>\n",
       "      <td>National Science Foundation</td>\n",
       "      <td>Directorate for Geosciences (GEO)</td>\n",
       "      <td>The Division of Ocean Sciences seeks to establ...</td>\n",
       "      <td>2002</td>\n",
       "      <td>5.24</td>\n",
       "      <td>7.19</td>\n",
       "      <td>5.7</td>\n",
       "      <td>General STEM</td>\n",
       "      <td>NaN</td>\n",
       "      <td>...</td>\n",
       "      <td>NaN</td>\n",
       "      <td>NaN</td>\n",
       "      <td>NaN</td>\n",
       "      <td>NaN</td>\n",
       "      <td>NO</td>\n",
       "      <td>INDEPENDENT</td>\n",
       "      <td>NaN</td>\n",
       "      <td>NaN</td>\n",
       "      <td>INDEPENDENT</td>\n",
       "      <td>NaN</td>\n",
       "    </tr>\n",
       "    <tr>\n",
       "      <th>PRG_0002</th>\n",
       "      <td>Broadening Participation in Computing (BPC)</td>\n",
       "      <td>National Science Foundation</td>\n",
       "      <td>Directorate for Computer &amp; Information Science...</td>\n",
       "      <td>The BPC Program was not primarily aimed at edu...</td>\n",
       "      <td>2006</td>\n",
       "      <td>14</td>\n",
       "      <td>14</td>\n",
       "      <td>14</td>\n",
       "      <td>General STEM</td>\n",
       "      <td>NaN</td>\n",
       "      <td>...</td>\n",
       "      <td>NaN</td>\n",
       "      <td>NaN</td>\n",
       "      <td>NaN</td>\n",
       "      <td>NaN</td>\n",
       "      <td>NO</td>\n",
       "      <td>NaN</td>\n",
       "      <td>NaN</td>\n",
       "      <td>NO</td>\n",
       "      <td>NaN</td>\n",
       "      <td>NaN</td>\n",
       "    </tr>\n",
       "    <tr>\n",
       "      <th>PRG_0003</th>\n",
       "      <td>CISE Pathways to Revitalized Undergraduate Com...</td>\n",
       "      <td>National Science Foundation</td>\n",
       "      <td>Directorate for Computer &amp; Information Science...</td>\n",
       "      <td>Through the CISE Pathways to Revitalized Under...</td>\n",
       "      <td>2007</td>\n",
       "      <td>5</td>\n",
       "      <td>5</td>\n",
       "      <td>4.37</td>\n",
       "      <td>General STEM</td>\n",
       "      <td>NaN</td>\n",
       "      <td>...</td>\n",
       "      <td>NaN</td>\n",
       "      <td>NaN</td>\n",
       "      <td>NaN</td>\n",
       "      <td>NaN</td>\n",
       "      <td>NO</td>\n",
       "      <td>NaN</td>\n",
       "      <td>NaN</td>\n",
       "      <td>NO</td>\n",
       "      <td>NaN</td>\n",
       "      <td>NaN</td>\n",
       "    </tr>\n",
       "    <tr>\n",
       "      <th>PRG_0004</th>\n",
       "      <td>Opportunities for Enhancing Diversity in the G...</td>\n",
       "      <td>National Science Foundation</td>\n",
       "      <td>Directorate for Geosciences (GEO)</td>\n",
       "      <td>The Opportunities for Enhancing Diversity in t...</td>\n",
       "      <td>2002</td>\n",
       "      <td>4.57</td>\n",
       "      <td>11.79</td>\n",
       "      <td>4.18</td>\n",
       "      <td>General STEM</td>\n",
       "      <td>NaN</td>\n",
       "      <td>...</td>\n",
       "      <td>NaN</td>\n",
       "      <td>NO</td>\n",
       "      <td>INDEPENDENT</td>\n",
       "      <td>NaN</td>\n",
       "      <td>NaN</td>\n",
       "      <td>INDEPENDENT</td>\n",
       "      <td>NaN</td>\n",
       "      <td>NaN</td>\n",
       "      <td>INDEPENDENT</td>\n",
       "      <td>NaN</td>\n",
       "    </tr>\n",
       "  </tbody>\n",
       "</table>\n",
       "<p>5 rows × 255 columns</p>\n",
       "</div>"
      ],
      "text/plain": [
       "                                                        PROGRAM  \\\n",
       "Index Number                                    Investment Name   \n",
       "PRG_0001      Centers for Ocean Sciences Education Excellence ~   \n",
       "PRG_0002            Broadening Participation in Computing (BPC)   \n",
       "PRG_0003      CISE Pathways to Revitalized Undergraduate Com...   \n",
       "PRG_0004      Opportunities for Enhancing Diversity in the G...   \n",
       "\n",
       "                               Unnamed: 1  \\\n",
       "Index Number                       Agency   \n",
       "PRG_0001      National Science Foundation   \n",
       "PRG_0002      National Science Foundation   \n",
       "PRG_0003      National Science Foundation   \n",
       "PRG_0004      National Science Foundation   \n",
       "\n",
       "                                                     Unnamed: 2  \\\n",
       "Index Number                                          Subagency   \n",
       "PRG_0001                      Directorate for Geosciences (GEO)   \n",
       "PRG_0002      Directorate for Computer & Information Science...   \n",
       "PRG_0003      Directorate for Computer & Information Science...   \n",
       "PRG_0004                      Directorate for Geosciences (GEO)   \n",
       "\n",
       "                                                     Unnamed: 3  \\\n",
       "Index Number                               A) Brief Description   \n",
       "PRG_0001      The Division of Ocean Sciences seeks to establ...   \n",
       "PRG_0002      The BPC Program was not primarily aimed at edu...   \n",
       "PRG_0003      Through the CISE Pathways to Revitalized Under...   \n",
       "PRG_0004      The Opportunities for Enhancing Diversity in t...   \n",
       "\n",
       "                          FUNDING          Unnamed: 5          Unnamed: 6  \\\n",
       "Index Number  B) Year Established  C1) Funding FY2008  C2) Funding FY2009   \n",
       "PRG_0001                     2002                5.24                7.19   \n",
       "PRG_0002                     2006                  14                  14   \n",
       "PRG_0003                     2007                   5                   5   \n",
       "PRG_0004                     2002                4.57               11.79   \n",
       "\n",
       "                      Unnamed: 7                            Unnamed: 8  \\\n",
       "Index Number  C3) Funding FY2010  D) Mission-specific or General STEM?   \n",
       "PRG_0001                     5.7                          General STEM   \n",
       "PRG_0002                      14                          General STEM   \n",
       "PRG_0003                    4.37                          General STEM   \n",
       "PRG_0004                    4.18                          General STEM   \n",
       "\n",
       "                                                 Unnamed: 9     ...       \\\n",
       "Index Number  E) Agency or Mission-Related Workforce Needs?     ...        \n",
       "PRG_0001                                                NaN     ...        \n",
       "PRG_0002                                                NaN     ...        \n",
       "PRG_0003                                                NaN     ...        \n",
       "PRG_0004                                                NaN     ...        \n",
       "\n",
       "             Unnamed: 245 Unnamed: 246  \\\n",
       "Index Number          NaN          NaN   \n",
       "PRG_0001              NaN          NaN   \n",
       "PRG_0002              NaN          NaN   \n",
       "PRG_0003              NaN          NaN   \n",
       "PRG_0004              NaN           NO   \n",
       "\n",
       "                                               Unnamed: 247 Unnamed: 248  \\\n",
       "Index Number  Y3) Process or Implementation Evaluation Type          NaN   \n",
       "PRG_0001                                                NaN          NaN   \n",
       "PRG_0002                                                NaN          NaN   \n",
       "PRG_0003                                                NaN          NaN   \n",
       "PRG_0004                                        INDEPENDENT          NaN   \n",
       "\n",
       "             Unnamed: 249                          Unnamed: 250 Unnamed: 251  \\\n",
       "Index Number          NaN  Y4) Portfolio Evaluation/Review Type          NaN   \n",
       "PRG_0001               NO                           INDEPENDENT          NaN   \n",
       "PRG_0002               NO                                   NaN          NaN   \n",
       "PRG_0003               NO                                   NaN          NaN   \n",
       "PRG_0004              NaN                           INDEPENDENT          NaN   \n",
       "\n",
       "             Unnamed: 252            Unnamed: 253 Unnamed: 254  \n",
       "Index Number          NaN  Y5) Expert Review Type          NaN  \n",
       "PRG_0001              NaN             INDEPENDENT          NaN  \n",
       "PRG_0002               NO                     NaN          NaN  \n",
       "PRG_0003               NO                     NaN          NaN  \n",
       "PRG_0004              NaN             INDEPENDENT          NaN  \n",
       "\n",
       "[5 rows x 255 columns]"
      ]
     },
     "execution_count": 4,
     "metadata": {},
     "output_type": "execute_result"
    }
   ],
   "source": [
    "data.head() # First look at data and cleaning the data to give the optimized result"
   ]
  },
  {
   "cell_type": "code",
   "execution_count": null,
   "metadata": {
    "collapsed": true
   },
   "outputs": [],
   "source": [
    "data.isnull().sum().sum()"
   ]
  },
  {
   "cell_type": "code",
   "execution_count": null,
   "metadata": {
    "collapsed": true
   },
   "outputs": [],
   "source": []
  },
  {
   "cell_type": "code",
   "execution_count": 5,
   "metadata": {},
   "outputs": [
    {
     "data": {
      "text/plain": [
       "<pandas.core.indexing._LocIndexer at 0x1180647f0>"
      ]
     },
     "execution_count": 5,
     "metadata": {},
     "output_type": "execute_result"
    }
   ],
   "source": [
    "data.loc(3)"
   ]
  },
  {
   "cell_type": "code",
   "execution_count": 8,
   "metadata": {},
   "outputs": [],
   "source": [
    "def getCleanData(currentList):\n",
    "    if currentList.isnull().sum()>50 :\n",
    "        return None\n",
    "    else:\n",
    "        return currentList  # checking for null values anything greater than 10% of total is bad for analysis"
   ]
  },
  {
   "cell_type": "code",
   "execution_count": 9,
   "metadata": {
    "collapsed": true
   },
   "outputs": [],
   "source": [
    "df=data.apply(getCleanData)"
   ]
  },
  {
   "cell_type": "code",
   "execution_count": 10,
   "metadata": {},
   "outputs": [
    {
     "data": {
      "text/html": [
       "<div>\n",
       "<style>\n",
       "    .dataframe thead tr:only-child th {\n",
       "        text-align: right;\n",
       "    }\n",
       "\n",
       "    .dataframe thead th {\n",
       "        text-align: left;\n",
       "    }\n",
       "\n",
       "    .dataframe tbody tr th {\n",
       "        vertical-align: top;\n",
       "    }\n",
       "</style>\n",
       "<table border=\"1\" class=\"dataframe\">\n",
       "  <thead>\n",
       "    <tr style=\"text-align: right;\">\n",
       "      <th></th>\n",
       "      <th>Unnamed: 162</th>\n",
       "      <th>Unnamed: 165</th>\n",
       "      <th>Unnamed: 168</th>\n",
       "      <th>Unnamed: 171</th>\n",
       "      <th>Unnamed: 177</th>\n",
       "      <th>Unnamed: 180</th>\n",
       "      <th>Unnamed: 183</th>\n",
       "    </tr>\n",
       "  </thead>\n",
       "  <tbody>\n",
       "    <tr>\n",
       "      <th>count</th>\n",
       "      <td>12.000000</td>\n",
       "      <td>4.000000</td>\n",
       "      <td>1.0000</td>\n",
       "      <td>1.000</td>\n",
       "      <td>2.000000</td>\n",
       "      <td>1.00</td>\n",
       "      <td>1.000</td>\n",
       "    </tr>\n",
       "    <tr>\n",
       "      <th>mean</th>\n",
       "      <td>1.650048</td>\n",
       "      <td>1.048625</td>\n",
       "      <td>0.0445</td>\n",
       "      <td>0.089</td>\n",
       "      <td>0.887000</td>\n",
       "      <td>1.82</td>\n",
       "      <td>2.204</td>\n",
       "    </tr>\n",
       "    <tr>\n",
       "      <th>std</th>\n",
       "      <td>1.910847</td>\n",
       "      <td>1.392363</td>\n",
       "      <td>NaN</td>\n",
       "      <td>NaN</td>\n",
       "      <td>1.112986</td>\n",
       "      <td>NaN</td>\n",
       "      <td>NaN</td>\n",
       "    </tr>\n",
       "    <tr>\n",
       "      <th>min</th>\n",
       "      <td>0.050000</td>\n",
       "      <td>0.044500</td>\n",
       "      <td>0.0445</td>\n",
       "      <td>0.089</td>\n",
       "      <td>0.100000</td>\n",
       "      <td>1.82</td>\n",
       "      <td>2.204</td>\n",
       "    </tr>\n",
       "    <tr>\n",
       "      <th>25%</th>\n",
       "      <td>0.198375</td>\n",
       "      <td>0.048625</td>\n",
       "      <td>0.0445</td>\n",
       "      <td>0.089</td>\n",
       "      <td>0.493500</td>\n",
       "      <td>1.82</td>\n",
       "      <td>2.204</td>\n",
       "    </tr>\n",
       "    <tr>\n",
       "      <th>50%</th>\n",
       "      <td>0.737625</td>\n",
       "      <td>0.575000</td>\n",
       "      <td>0.0445</td>\n",
       "      <td>0.089</td>\n",
       "      <td>0.887000</td>\n",
       "      <td>1.82</td>\n",
       "      <td>2.204</td>\n",
       "    </tr>\n",
       "    <tr>\n",
       "      <th>75%</th>\n",
       "      <td>3.250457</td>\n",
       "      <td>1.575000</td>\n",
       "      <td>0.0445</td>\n",
       "      <td>0.089</td>\n",
       "      <td>1.280500</td>\n",
       "      <td>1.82</td>\n",
       "      <td>2.204</td>\n",
       "    </tr>\n",
       "    <tr>\n",
       "      <th>max</th>\n",
       "      <td>5.000000</td>\n",
       "      <td>3.000000</td>\n",
       "      <td>0.0445</td>\n",
       "      <td>0.089</td>\n",
       "      <td>1.674000</td>\n",
       "      <td>1.82</td>\n",
       "      <td>2.204</td>\n",
       "    </tr>\n",
       "  </tbody>\n",
       "</table>\n",
       "</div>"
      ],
      "text/plain": [
       "       Unnamed: 162  Unnamed: 165  Unnamed: 168  Unnamed: 171  Unnamed: 177  \\\n",
       "count     12.000000      4.000000        1.0000         1.000      2.000000   \n",
       "mean       1.650048      1.048625        0.0445         0.089      0.887000   \n",
       "std        1.910847      1.392363           NaN           NaN      1.112986   \n",
       "min        0.050000      0.044500        0.0445         0.089      0.100000   \n",
       "25%        0.198375      0.048625        0.0445         0.089      0.493500   \n",
       "50%        0.737625      0.575000        0.0445         0.089      0.887000   \n",
       "75%        3.250457      1.575000        0.0445         0.089      1.280500   \n",
       "max        5.000000      3.000000        0.0445         0.089      1.674000   \n",
       "\n",
       "       Unnamed: 180  Unnamed: 183  \n",
       "count          1.00         1.000  \n",
       "mean           1.82         2.204  \n",
       "std             NaN           NaN  \n",
       "min            1.82         2.204  \n",
       "25%            1.82         2.204  \n",
       "50%            1.82         2.204  \n",
       "75%            1.82         2.204  \n",
       "max            1.82         2.204  "
      ]
     },
     "execution_count": 10,
     "metadata": {},
     "output_type": "execute_result"
    }
   ],
   "source": [
    "data.describe()"
   ]
  },
  {
   "cell_type": "code",
   "execution_count": 11,
   "metadata": {},
   "outputs": [
    {
     "data": {
      "text/html": [
       "<div>\n",
       "<style>\n",
       "    .dataframe thead tr:only-child th {\n",
       "        text-align: right;\n",
       "    }\n",
       "\n",
       "    .dataframe thead th {\n",
       "        text-align: left;\n",
       "    }\n",
       "\n",
       "    .dataframe tbody tr th {\n",
       "        vertical-align: top;\n",
       "    }\n",
       "</style>\n",
       "<table border=\"1\" class=\"dataframe\">\n",
       "  <thead>\n",
       "    <tr style=\"text-align: right;\">\n",
       "      <th></th>\n",
       "      <th>PROGRAM</th>\n",
       "      <th>Unnamed: 1</th>\n",
       "      <th>Unnamed: 2</th>\n",
       "      <th>Unnamed: 3</th>\n",
       "      <th>FUNDING</th>\n",
       "      <th>Unnamed: 5</th>\n",
       "      <th>Unnamed: 6</th>\n",
       "      <th>Unnamed: 7</th>\n",
       "      <th>Unnamed: 8</th>\n",
       "      <th>Unnamed: 9</th>\n",
       "      <th>...</th>\n",
       "      <th>Unnamed: 245</th>\n",
       "      <th>Unnamed: 246</th>\n",
       "      <th>Unnamed: 247</th>\n",
       "      <th>Unnamed: 248</th>\n",
       "      <th>Unnamed: 249</th>\n",
       "      <th>Unnamed: 250</th>\n",
       "      <th>Unnamed: 251</th>\n",
       "      <th>Unnamed: 252</th>\n",
       "      <th>Unnamed: 253</th>\n",
       "      <th>Unnamed: 254</th>\n",
       "    </tr>\n",
       "  </thead>\n",
       "  <tbody>\n",
       "    <tr>\n",
       "      <th>count</th>\n",
       "      <td>253</td>\n",
       "      <td>253</td>\n",
       "      <td>238</td>\n",
       "      <td>253</td>\n",
       "      <td>242</td>\n",
       "      <td>232</td>\n",
       "      <td>245</td>\n",
       "      <td>254.0</td>\n",
       "      <td>253</td>\n",
       "      <td>0.0</td>\n",
       "      <td>...</td>\n",
       "      <td>0.0</td>\n",
       "      <td>0.0</td>\n",
       "      <td>0.0</td>\n",
       "      <td>0.0</td>\n",
       "      <td>0.0</td>\n",
       "      <td>0.0</td>\n",
       "      <td>0.0</td>\n",
       "      <td>0.0</td>\n",
       "      <td>0.0</td>\n",
       "      <td>0.0</td>\n",
       "    </tr>\n",
       "    <tr>\n",
       "      <th>unique</th>\n",
       "      <td>252</td>\n",
       "      <td>14</td>\n",
       "      <td>65</td>\n",
       "      <td>253</td>\n",
       "      <td>48</td>\n",
       "      <td>199</td>\n",
       "      <td>219</td>\n",
       "      <td>219.0</td>\n",
       "      <td>3</td>\n",
       "      <td>0.0</td>\n",
       "      <td>...</td>\n",
       "      <td>0.0</td>\n",
       "      <td>0.0</td>\n",
       "      <td>0.0</td>\n",
       "      <td>0.0</td>\n",
       "      <td>0.0</td>\n",
       "      <td>0.0</td>\n",
       "      <td>0.0</td>\n",
       "      <td>0.0</td>\n",
       "      <td>0.0</td>\n",
       "      <td>0.0</td>\n",
       "    </tr>\n",
       "    <tr>\n",
       "      <th>top</th>\n",
       "      <td>Global Learning and Observations to Benefit th...</td>\n",
       "      <td>NASA</td>\n",
       "      <td>Directorate for Education and Human Resources ...</td>\n",
       "      <td>The National Marine Fisheries Service (NMFS) e...</td>\n",
       "      <td>2008</td>\n",
       "      <td>0</td>\n",
       "      <td>0</td>\n",
       "      <td>0.3</td>\n",
       "      <td>General STEM</td>\n",
       "      <td>NaN</td>\n",
       "      <td>...</td>\n",
       "      <td>NaN</td>\n",
       "      <td>NaN</td>\n",
       "      <td>NaN</td>\n",
       "      <td>NaN</td>\n",
       "      <td>NaN</td>\n",
       "      <td>NaN</td>\n",
       "      <td>NaN</td>\n",
       "      <td>NaN</td>\n",
       "      <td>NaN</td>\n",
       "      <td>NaN</td>\n",
       "    </tr>\n",
       "    <tr>\n",
       "      <th>freq</th>\n",
       "      <td>2</td>\n",
       "      <td>62</td>\n",
       "      <td>23</td>\n",
       "      <td>1</td>\n",
       "      <td>21</td>\n",
       "      <td>14</td>\n",
       "      <td>10</td>\n",
       "      <td>5.0</td>\n",
       "      <td>139</td>\n",
       "      <td>NaN</td>\n",
       "      <td>...</td>\n",
       "      <td>NaN</td>\n",
       "      <td>NaN</td>\n",
       "      <td>NaN</td>\n",
       "      <td>NaN</td>\n",
       "      <td>NaN</td>\n",
       "      <td>NaN</td>\n",
       "      <td>NaN</td>\n",
       "      <td>NaN</td>\n",
       "      <td>NaN</td>\n",
       "      <td>NaN</td>\n",
       "    </tr>\n",
       "  </tbody>\n",
       "</table>\n",
       "<p>4 rows × 255 columns</p>\n",
       "</div>"
      ],
      "text/plain": [
       "                                                  PROGRAM Unnamed: 1  \\\n",
       "count                                                 253        253   \n",
       "unique                                                252         14   \n",
       "top     Global Learning and Observations to Benefit th...       NASA   \n",
       "freq                                                    2         62   \n",
       "\n",
       "                                               Unnamed: 2  \\\n",
       "count                                                 238   \n",
       "unique                                                 65   \n",
       "top     Directorate for Education and Human Resources ...   \n",
       "freq                                                   23   \n",
       "\n",
       "                                               Unnamed: 3  FUNDING  \\\n",
       "count                                                 253      242   \n",
       "unique                                                253       48   \n",
       "top     The National Marine Fisheries Service (NMFS) e...     2008   \n",
       "freq                                                    1       21   \n",
       "\n",
       "        Unnamed: 5  Unnamed: 6  Unnamed: 7    Unnamed: 8  Unnamed: 9  \\\n",
       "count          232         245       254.0           253         0.0   \n",
       "unique         199         219       219.0             3         0.0   \n",
       "top              0           0         0.3  General STEM         NaN   \n",
       "freq            14          10         5.0           139         NaN   \n",
       "\n",
       "            ...      Unnamed: 245  Unnamed: 246  Unnamed: 247  Unnamed: 248  \\\n",
       "count       ...               0.0           0.0           0.0           0.0   \n",
       "unique      ...               0.0           0.0           0.0           0.0   \n",
       "top         ...               NaN           NaN           NaN           NaN   \n",
       "freq        ...               NaN           NaN           NaN           NaN   \n",
       "\n",
       "        Unnamed: 249  Unnamed: 250  Unnamed: 251  Unnamed: 252  Unnamed: 253  \\\n",
       "count            0.0           0.0           0.0           0.0           0.0   \n",
       "unique           0.0           0.0           0.0           0.0           0.0   \n",
       "top              NaN           NaN           NaN           NaN           NaN   \n",
       "freq             NaN           NaN           NaN           NaN           NaN   \n",
       "\n",
       "        Unnamed: 254  \n",
       "count            0.0  \n",
       "unique           0.0  \n",
       "top              NaN  \n",
       "freq             NaN  \n",
       "\n",
       "[4 rows x 255 columns]"
      ]
     },
     "execution_count": 11,
     "metadata": {},
     "output_type": "execute_result"
    }
   ],
   "source": [
    "df.describe()"
   ]
  },
  {
   "cell_type": "markdown",
   "metadata": {},
   "source": [
    "### calculating funding Growth variables"
   ]
  },
  {
   "cell_type": "code",
   "execution_count": 12,
   "metadata": {
    "collapsed": true
   },
   "outputs": [],
   "source": [
    "yr08=data['Unnamed: 5']"
   ]
  },
  {
   "cell_type": "code",
   "execution_count": 13,
   "metadata": {
    "collapsed": true
   },
   "outputs": [],
   "source": [
    "yr09=data['Unnamed: 6']"
   ]
  },
  {
   "cell_type": "code",
   "execution_count": 14,
   "metadata": {
    "collapsed": true
   },
   "outputs": [],
   "source": [
    "yr08=yr08.iloc[1:]"
   ]
  },
  {
   "cell_type": "code",
   "execution_count": 15,
   "metadata": {
    "collapsed": true
   },
   "outputs": [],
   "source": [
    "yr09=yr09.iloc[1:]"
   ]
  },
  {
   "cell_type": "code",
   "execution_count": 16,
   "metadata": {
    "collapsed": true
   },
   "outputs": [],
   "source": [
    "diff=yr09-yr08"
   ]
  },
  {
   "cell_type": "code",
   "execution_count": 17,
   "metadata": {},
   "outputs": [
    {
     "data": {
      "text/plain": [
       "count     231.0\n",
       "unique    182.0\n",
       "top         0.0\n",
       "freq       38.0\n",
       "dtype: float64"
      ]
     },
     "execution_count": 17,
     "metadata": {},
     "output_type": "execute_result"
    }
   ],
   "source": [
    "diff.describe()\n"
   ]
  },
  {
   "cell_type": "code",
   "execution_count": 18,
   "metadata": {},
   "outputs": [
    {
     "data": {
      "text/plain": [
       "1102.5614039999991"
      ]
     },
     "execution_count": 18,
     "metadata": {},
     "output_type": "execute_result"
    }
   ],
   "source": [
    "diff.sum()"
   ]
  },
  {
   "cell_type": "code",
   "execution_count": 19,
   "metadata": {},
   "outputs": [
    {
     "data": {
      "text/plain": [
       "22"
      ]
     },
     "execution_count": 19,
     "metadata": {},
     "output_type": "execute_result"
    }
   ],
   "source": [
    "yr08.isnull().sum() #finding the total null values to be replaced in denominator "
   ]
  },
  {
   "cell_type": "code",
   "execution_count": null,
   "metadata": {},
   "outputs": [],
   "source": []
  },
  {
   "cell_type": "code",
   "execution_count": 20,
   "metadata": {
    "collapsed": true
   },
   "outputs": [],
   "source": [
    "def replaceByOne(denominator):\n",
    "    if denominator==0:\n",
    "        return 1\n",
    "    elif denominator==None:\n",
    "        return 1\n",
    "    else:\n",
    "        return denominator"
   ]
  },
  {
   "cell_type": "code",
   "execution_count": 21,
   "metadata": {
    "collapsed": true
   },
   "outputs": [],
   "source": [
    "yr08=yr08.apply(replaceByOne)"
   ]
  },
  {
   "cell_type": "code",
   "execution_count": 22,
   "metadata": {
    "collapsed": true
   },
   "outputs": [],
   "source": [
    "growth=diff.divide(yr08)"
   ]
  },
  {
   "cell_type": "code",
   "execution_count": 23,
   "metadata": {},
   "outputs": [
    {
     "data": {
      "text/plain": [
       "count     231.0\n",
       "unique    190.0\n",
       "top         0.0\n",
       "freq       38.0\n",
       "dtype: float64"
      ]
     },
     "execution_count": 23,
     "metadata": {},
     "output_type": "execute_result"
    }
   ],
   "source": [
    "growth.describe()"
   ]
  },
  {
   "cell_type": "code",
   "execution_count": 24,
   "metadata": {
    "collapsed": true
   },
   "outputs": [],
   "source": [
    "percentageGrowth=growth*100"
   ]
  },
  {
   "cell_type": "code",
   "execution_count": 25,
   "metadata": {},
   "outputs": [
    {
     "data": {
      "text/plain": [
       "count     231.0\n",
       "unique    190.0\n",
       "top         0.0\n",
       "freq       38.0\n",
       "dtype: float64"
      ]
     },
     "execution_count": 25,
     "metadata": {},
     "output_type": "execute_result"
    }
   ],
   "source": [
    "percentageGrowth.describe()"
   ]
  },
  {
   "cell_type": "code",
   "execution_count": 26,
   "metadata": {},
   "outputs": [
    {
     "data": {
      "text/plain": [
       "9712.70137527284"
      ]
     },
     "execution_count": 26,
     "metadata": {},
     "output_type": "execute_result"
    }
   ],
   "source": [
    "percentageGrowth.sum()"
   ]
  },
  {
   "cell_type": "code",
   "execution_count": 27,
   "metadata": {
    "collapsed": true
   },
   "outputs": [],
   "source": [
    "totalFundingCompanies=percentageGrowth.shape"
   ]
  },
  {
   "cell_type": "code",
   "execution_count": 28,
   "metadata": {},
   "outputs": [
    {
     "data": {
      "text/plain": [
       "253"
      ]
     },
     "execution_count": 28,
     "metadata": {},
     "output_type": "execute_result"
    }
   ],
   "source": [
    "totalFundingCompanies[0]"
   ]
  },
  {
   "cell_type": "code",
   "execution_count": 29,
   "metadata": {
    "collapsed": true
   },
   "outputs": [],
   "source": [
    "netGrowthForAllAgencies=percentageGrowth.sum()/totalFundingCompanies[0]\n"
   ]
  },
  {
   "cell_type": "code",
   "execution_count": 30,
   "metadata": {},
   "outputs": [
    {
     "data": {
      "text/plain": [
       "38.39012401293613"
      ]
     },
     "execution_count": 30,
     "metadata": {},
     "output_type": "execute_result"
    }
   ],
   "source": [
    "netGrowthForAllAgencies"
   ]
  },
  {
   "cell_type": "markdown",
   "metadata": {},
   "source": [
    "### Creating the target variable\n",
    "\n",
    "##### If funding is positive, tag it as 1, if funding is negative tag it as 0. This is the target variable."
   ]
  },
  {
   "cell_type": "code",
   "execution_count": 31,
   "metadata": {
    "collapsed": true
   },
   "outputs": [],
   "source": [
    "def generateTarget(currentGrowth):\n",
    "    if currentGrowth>=0:\n",
    "        return 1\n",
    "    else:\n",
    "        return 0"
   ]
  },
  {
   "cell_type": "code",
   "execution_count": 32,
   "metadata": {
    "collapsed": true
   },
   "outputs": [],
   "source": [
    "data['target']=percentageGrowth.apply(generateTarget)"
   ]
  },
  {
   "cell_type": "code",
   "execution_count": 33,
   "metadata": {},
   "outputs": [
    {
     "data": {
      "text/plain": [
       "count    253.000000\n",
       "mean       0.707510\n",
       "std        0.455808\n",
       "min        0.000000\n",
       "25%        0.000000\n",
       "50%        1.000000\n",
       "75%        1.000000\n",
       "max        1.000000\n",
       "Name: target, dtype: float64"
      ]
     },
     "execution_count": 33,
     "metadata": {},
     "output_type": "execute_result"
    }
   ],
   "source": [
    "data['target'].describe()"
   ]
  },
  {
   "cell_type": "code",
   "execution_count": 34,
   "metadata": {},
   "outputs": [
    {
     "data": {
      "text/html": [
       "<div>\n",
       "<style>\n",
       "    .dataframe thead tr:only-child th {\n",
       "        text-align: right;\n",
       "    }\n",
       "\n",
       "    .dataframe thead th {\n",
       "        text-align: left;\n",
       "    }\n",
       "\n",
       "    .dataframe tbody tr th {\n",
       "        vertical-align: top;\n",
       "    }\n",
       "</style>\n",
       "<table border=\"1\" class=\"dataframe\">\n",
       "  <thead>\n",
       "    <tr style=\"text-align: right;\">\n",
       "      <th></th>\n",
       "      <th>PROGRAM</th>\n",
       "      <th>Unnamed: 1</th>\n",
       "      <th>Unnamed: 2</th>\n",
       "      <th>Unnamed: 3</th>\n",
       "      <th>FUNDING</th>\n",
       "      <th>Unnamed: 5</th>\n",
       "      <th>Unnamed: 6</th>\n",
       "      <th>Unnamed: 7</th>\n",
       "      <th>Unnamed: 8</th>\n",
       "      <th>Unnamed: 9</th>\n",
       "      <th>...</th>\n",
       "      <th>Unnamed: 246</th>\n",
       "      <th>Unnamed: 247</th>\n",
       "      <th>Unnamed: 248</th>\n",
       "      <th>Unnamed: 249</th>\n",
       "      <th>Unnamed: 250</th>\n",
       "      <th>Unnamed: 251</th>\n",
       "      <th>Unnamed: 252</th>\n",
       "      <th>Unnamed: 253</th>\n",
       "      <th>Unnamed: 254</th>\n",
       "      <th>target</th>\n",
       "    </tr>\n",
       "  </thead>\n",
       "  <tbody>\n",
       "    <tr>\n",
       "      <th>Index Number</th>\n",
       "      <td>Investment Name</td>\n",
       "      <td>Agency</td>\n",
       "      <td>Subagency</td>\n",
       "      <td>A) Brief Description</td>\n",
       "      <td>B) Year Established</td>\n",
       "      <td>C1) Funding FY2008</td>\n",
       "      <td>C2) Funding FY2009</td>\n",
       "      <td>C3) Funding FY2010</td>\n",
       "      <td>D) Mission-specific or General STEM?</td>\n",
       "      <td>E) Agency or Mission-Related Workforce Needs?</td>\n",
       "      <td>...</td>\n",
       "      <td>NaN</td>\n",
       "      <td>Y3) Process or Implementation Evaluation Type</td>\n",
       "      <td>NaN</td>\n",
       "      <td>NaN</td>\n",
       "      <td>Y4) Portfolio Evaluation/Review Type</td>\n",
       "      <td>NaN</td>\n",
       "      <td>NaN</td>\n",
       "      <td>Y5) Expert Review Type</td>\n",
       "      <td>NaN</td>\n",
       "      <td>NaN</td>\n",
       "    </tr>\n",
       "    <tr>\n",
       "      <th>PRG_0001</th>\n",
       "      <td>Centers for Ocean Sciences Education Excellence ~</td>\n",
       "      <td>National Science Foundation</td>\n",
       "      <td>Directorate for Geosciences (GEO)</td>\n",
       "      <td>The Division of Ocean Sciences seeks to establ...</td>\n",
       "      <td>2002</td>\n",
       "      <td>5.24</td>\n",
       "      <td>7.19</td>\n",
       "      <td>5.7</td>\n",
       "      <td>General STEM</td>\n",
       "      <td>NaN</td>\n",
       "      <td>...</td>\n",
       "      <td>NaN</td>\n",
       "      <td>NaN</td>\n",
       "      <td>NaN</td>\n",
       "      <td>NO</td>\n",
       "      <td>INDEPENDENT</td>\n",
       "      <td>NaN</td>\n",
       "      <td>NaN</td>\n",
       "      <td>INDEPENDENT</td>\n",
       "      <td>NaN</td>\n",
       "      <td>1.0</td>\n",
       "    </tr>\n",
       "    <tr>\n",
       "      <th>PRG_0002</th>\n",
       "      <td>Broadening Participation in Computing (BPC)</td>\n",
       "      <td>National Science Foundation</td>\n",
       "      <td>Directorate for Computer &amp; Information Science...</td>\n",
       "      <td>The BPC Program was not primarily aimed at edu...</td>\n",
       "      <td>2006</td>\n",
       "      <td>14</td>\n",
       "      <td>14</td>\n",
       "      <td>14</td>\n",
       "      <td>General STEM</td>\n",
       "      <td>NaN</td>\n",
       "      <td>...</td>\n",
       "      <td>NaN</td>\n",
       "      <td>NaN</td>\n",
       "      <td>NaN</td>\n",
       "      <td>NO</td>\n",
       "      <td>NaN</td>\n",
       "      <td>NaN</td>\n",
       "      <td>NO</td>\n",
       "      <td>NaN</td>\n",
       "      <td>NaN</td>\n",
       "      <td>1.0</td>\n",
       "    </tr>\n",
       "    <tr>\n",
       "      <th>PRG_0003</th>\n",
       "      <td>CISE Pathways to Revitalized Undergraduate Com...</td>\n",
       "      <td>National Science Foundation</td>\n",
       "      <td>Directorate for Computer &amp; Information Science...</td>\n",
       "      <td>Through the CISE Pathways to Revitalized Under...</td>\n",
       "      <td>2007</td>\n",
       "      <td>5</td>\n",
       "      <td>5</td>\n",
       "      <td>4.37</td>\n",
       "      <td>General STEM</td>\n",
       "      <td>NaN</td>\n",
       "      <td>...</td>\n",
       "      <td>NaN</td>\n",
       "      <td>NaN</td>\n",
       "      <td>NaN</td>\n",
       "      <td>NO</td>\n",
       "      <td>NaN</td>\n",
       "      <td>NaN</td>\n",
       "      <td>NO</td>\n",
       "      <td>NaN</td>\n",
       "      <td>NaN</td>\n",
       "      <td>1.0</td>\n",
       "    </tr>\n",
       "    <tr>\n",
       "      <th>PRG_0004</th>\n",
       "      <td>Opportunities for Enhancing Diversity in the G...</td>\n",
       "      <td>National Science Foundation</td>\n",
       "      <td>Directorate for Geosciences (GEO)</td>\n",
       "      <td>The Opportunities for Enhancing Diversity in t...</td>\n",
       "      <td>2002</td>\n",
       "      <td>4.57</td>\n",
       "      <td>11.79</td>\n",
       "      <td>4.18</td>\n",
       "      <td>General STEM</td>\n",
       "      <td>NaN</td>\n",
       "      <td>...</td>\n",
       "      <td>NO</td>\n",
       "      <td>INDEPENDENT</td>\n",
       "      <td>NaN</td>\n",
       "      <td>NaN</td>\n",
       "      <td>INDEPENDENT</td>\n",
       "      <td>NaN</td>\n",
       "      <td>NaN</td>\n",
       "      <td>INDEPENDENT</td>\n",
       "      <td>NaN</td>\n",
       "      <td>1.0</td>\n",
       "    </tr>\n",
       "  </tbody>\n",
       "</table>\n",
       "<p>5 rows × 256 columns</p>\n",
       "</div>"
      ],
      "text/plain": [
       "                                                        PROGRAM  \\\n",
       "Index Number                                    Investment Name   \n",
       "PRG_0001      Centers for Ocean Sciences Education Excellence ~   \n",
       "PRG_0002            Broadening Participation in Computing (BPC)   \n",
       "PRG_0003      CISE Pathways to Revitalized Undergraduate Com...   \n",
       "PRG_0004      Opportunities for Enhancing Diversity in the G...   \n",
       "\n",
       "                               Unnamed: 1  \\\n",
       "Index Number                       Agency   \n",
       "PRG_0001      National Science Foundation   \n",
       "PRG_0002      National Science Foundation   \n",
       "PRG_0003      National Science Foundation   \n",
       "PRG_0004      National Science Foundation   \n",
       "\n",
       "                                                     Unnamed: 2  \\\n",
       "Index Number                                          Subagency   \n",
       "PRG_0001                      Directorate for Geosciences (GEO)   \n",
       "PRG_0002      Directorate for Computer & Information Science...   \n",
       "PRG_0003      Directorate for Computer & Information Science...   \n",
       "PRG_0004                      Directorate for Geosciences (GEO)   \n",
       "\n",
       "                                                     Unnamed: 3  \\\n",
       "Index Number                               A) Brief Description   \n",
       "PRG_0001      The Division of Ocean Sciences seeks to establ...   \n",
       "PRG_0002      The BPC Program was not primarily aimed at edu...   \n",
       "PRG_0003      Through the CISE Pathways to Revitalized Under...   \n",
       "PRG_0004      The Opportunities for Enhancing Diversity in t...   \n",
       "\n",
       "                          FUNDING          Unnamed: 5          Unnamed: 6  \\\n",
       "Index Number  B) Year Established  C1) Funding FY2008  C2) Funding FY2009   \n",
       "PRG_0001                     2002                5.24                7.19   \n",
       "PRG_0002                     2006                  14                  14   \n",
       "PRG_0003                     2007                   5                   5   \n",
       "PRG_0004                     2002                4.57               11.79   \n",
       "\n",
       "                      Unnamed: 7                            Unnamed: 8  \\\n",
       "Index Number  C3) Funding FY2010  D) Mission-specific or General STEM?   \n",
       "PRG_0001                     5.7                          General STEM   \n",
       "PRG_0002                      14                          General STEM   \n",
       "PRG_0003                    4.37                          General STEM   \n",
       "PRG_0004                    4.18                          General STEM   \n",
       "\n",
       "                                                 Unnamed: 9  ...    \\\n",
       "Index Number  E) Agency or Mission-Related Workforce Needs?  ...     \n",
       "PRG_0001                                                NaN  ...     \n",
       "PRG_0002                                                NaN  ...     \n",
       "PRG_0003                                                NaN  ...     \n",
       "PRG_0004                                                NaN  ...     \n",
       "\n",
       "             Unnamed: 246                                   Unnamed: 247  \\\n",
       "Index Number          NaN  Y3) Process or Implementation Evaluation Type   \n",
       "PRG_0001              NaN                                            NaN   \n",
       "PRG_0002              NaN                                            NaN   \n",
       "PRG_0003              NaN                                            NaN   \n",
       "PRG_0004               NO                                    INDEPENDENT   \n",
       "\n",
       "             Unnamed: 248 Unnamed: 249                          Unnamed: 250  \\\n",
       "Index Number          NaN          NaN  Y4) Portfolio Evaluation/Review Type   \n",
       "PRG_0001              NaN           NO                           INDEPENDENT   \n",
       "PRG_0002              NaN           NO                                   NaN   \n",
       "PRG_0003              NaN           NO                                   NaN   \n",
       "PRG_0004              NaN          NaN                           INDEPENDENT   \n",
       "\n",
       "             Unnamed: 251 Unnamed: 252            Unnamed: 253 Unnamed: 254  \\\n",
       "Index Number          NaN          NaN  Y5) Expert Review Type          NaN   \n",
       "PRG_0001              NaN          NaN             INDEPENDENT          NaN   \n",
       "PRG_0002              NaN           NO                     NaN          NaN   \n",
       "PRG_0003              NaN           NO                     NaN          NaN   \n",
       "PRG_0004              NaN          NaN             INDEPENDENT          NaN   \n",
       "\n",
       "             target  \n",
       "Index Number    NaN  \n",
       "PRG_0001        1.0  \n",
       "PRG_0002        1.0  \n",
       "PRG_0003        1.0  \n",
       "PRG_0004        1.0  \n",
       "\n",
       "[5 rows x 256 columns]"
      ]
     },
     "execution_count": 34,
     "metadata": {},
     "output_type": "execute_result"
    }
   ],
   "source": [
    "data.head()"
   ]
  },
  {
   "cell_type": "markdown",
   "metadata": {},
   "source": [
    "# Stage 2"
   ]
  },
  {
   "cell_type": "markdown",
   "metadata": {},
   "source": [
    "### creating  columns of INterest\n",
    "### mutual info score \n",
    "### make univariate Graphs"
   ]
  },
  {
   "cell_type": "code",
   "execution_count": 35,
   "metadata": {
    "collapsed": true
   },
   "outputs": [],
   "source": [
    "def getCleanData(currentList):\n",
    "    if currentList.isnull().sum()>50 :\n",
    "        return None\n",
    "    else:\n",
    "        return currentList\n"
   ]
  },
  {
   "cell_type": "code",
   "execution_count": 36,
   "metadata": {},
   "outputs": [],
   "source": [
    "df=data.apply(getCleanData)"
   ]
  },
  {
   "cell_type": "code",
   "execution_count": 37,
   "metadata": {},
   "outputs": [
    {
     "data": {
      "text/plain": [
       "PROGRAM                   1\n",
       "Unnamed: 1                1\n",
       "Unnamed: 2               16\n",
       "Unnamed: 3                1\n",
       "FUNDING                  12\n",
       "Unnamed: 5               22\n",
       "Unnamed: 6                9\n",
       "Unnamed: 7                0\n",
       "Unnamed: 8                1\n",
       "Unnamed: 9              254\n",
       "Primary Objective         1\n",
       "Secondary Objective     254\n",
       "Unnamed: 12             254\n",
       "Unnamed: 13             254\n",
       "Unnamed: 14             254\n",
       "Unnamed: 15             254\n",
       "Unnamed: 16             254\n",
       "Unnamed: 17             254\n",
       "Unnamed: 18             254\n",
       "Unnamed: 19             254\n",
       "Unnamed: 20             254\n",
       "Primary Approaches      254\n",
       "Unnamed: 22             254\n",
       "Unnamed: 23             254\n",
       "Unnamed: 24             254\n",
       "Unnamed: 25             254\n",
       "Secondary Approaches    254\n",
       "Unnamed: 27             254\n",
       "Unnamed: 28             254\n",
       "Unnamed: 29             254\n",
       "                       ... \n",
       "Unnamed: 226            254\n",
       "Unnamed: 227            254\n",
       "Unnamed: 228            254\n",
       "Unnamed: 229            254\n",
       "Unnamed: 230            254\n",
       "Unnamed: 231            254\n",
       "Unnamed: 232            254\n",
       "Unnamed: 233            254\n",
       "Unnamed: 234            254\n",
       "Unnamed: 235            254\n",
       "Unnamed: 236            254\n",
       "Measures                254\n",
       "Unnamed: 238            254\n",
       "Unnamed: 239            254\n",
       "Eval                    254\n",
       "Evaluation Type         254\n",
       "Unnamed: 242            254\n",
       "Unnamed: 243            254\n",
       "Unnamed: 244            254\n",
       "Unnamed: 245            254\n",
       "Unnamed: 246            254\n",
       "Unnamed: 247            254\n",
       "Unnamed: 248            254\n",
       "Unnamed: 249            254\n",
       "Unnamed: 250            254\n",
       "Unnamed: 251            254\n",
       "Unnamed: 252            254\n",
       "Unnamed: 253            254\n",
       "Unnamed: 254            254\n",
       "target                    1\n",
       "Length: 256, dtype: int64"
      ]
     },
     "execution_count": 37,
     "metadata": {},
     "output_type": "execute_result"
    }
   ],
   "source": [
    "df.isnull().sum()"
   ]
  },
  {
   "cell_type": "code",
   "execution_count": 38,
   "metadata": {
    "collapsed": true
   },
   "outputs": [],
   "source": [
    "df.dropna(axis=1,how='all',inplace=True) # command to drop all columns where data is mostly null"
   ]
  },
  {
   "cell_type": "code",
   "execution_count": 39,
   "metadata": {},
   "outputs": [
    {
     "data": {
      "text/html": [
       "<div>\n",
       "<style>\n",
       "    .dataframe thead tr:only-child th {\n",
       "        text-align: right;\n",
       "    }\n",
       "\n",
       "    .dataframe thead th {\n",
       "        text-align: left;\n",
       "    }\n",
       "\n",
       "    .dataframe tbody tr th {\n",
       "        vertical-align: top;\n",
       "    }\n",
       "</style>\n",
       "<table border=\"1\" class=\"dataframe\">\n",
       "  <thead>\n",
       "    <tr style=\"text-align: right;\">\n",
       "      <th></th>\n",
       "      <th>Unnamed: 1</th>\n",
       "    </tr>\n",
       "  </thead>\n",
       "  <tbody>\n",
       "    <tr>\n",
       "      <th>PRG_0001</th>\n",
       "      <td>National Science Foundation</td>\n",
       "    </tr>\n",
       "  </tbody>\n",
       "</table>\n",
       "</div>"
      ],
      "text/plain": [
       "                           Unnamed: 1\n",
       "PRG_0001  National Science Foundation"
      ]
     },
     "execution_count": 39,
     "metadata": {},
     "output_type": "execute_result"
    }
   ],
   "source": [
    "df.iloc[1:2,1:2]"
   ]
  },
  {
   "cell_type": "code",
   "execution_count": 40,
   "metadata": {},
   "outputs": [],
   "source": [
    "row,col=df.shape"
   ]
  },
  {
   "cell_type": "code",
   "execution_count": 41,
   "metadata": {},
   "outputs": [],
   "source": [
    "a=[i for i in range(0,254)]\n",
    "df.index=a"
   ]
  },
  {
   "cell_type": "code",
   "execution_count": 88,
   "metadata": {},
   "outputs": [
    {
     "data": {
      "text/html": [
       "<div>\n",
       "<style>\n",
       "    .dataframe thead tr:only-child th {\n",
       "        text-align: right;\n",
       "    }\n",
       "\n",
       "    .dataframe thead th {\n",
       "        text-align: left;\n",
       "    }\n",
       "\n",
       "    .dataframe tbody tr th {\n",
       "        vertical-align: top;\n",
       "    }\n",
       "</style>\n",
       "<table border=\"1\" class=\"dataframe\">\n",
       "  <thead>\n",
       "    <tr style=\"text-align: right;\">\n",
       "      <th></th>\n",
       "      <th>(Investment Name,)</th>\n",
       "      <th>(Agency,)</th>\n",
       "      <th>(Subagency,)</th>\n",
       "      <th>(A) Brief Description,)</th>\n",
       "      <th>(B) Year Established,)</th>\n",
       "      <th>(C1) Funding FY2008,)</th>\n",
       "      <th>(C2) Funding FY2009,)</th>\n",
       "      <th>(C3) Funding FY2010,)</th>\n",
       "      <th>(D) Mission-specific or General STEM?,)</th>\n",
       "      <th>(F1) Primary Investment Objective,)</th>\n",
       "      <th>(I1) STEM Learners Targeted? Specify.,)</th>\n",
       "      <th>(J) Focus on Underrepresented Groups in STEM,)</th>\n",
       "      <th>(K) Eligibility Restrictions,)</th>\n",
       "      <th>(Q) Legislation Required to Shift Focus?,)</th>\n",
       "      <th>target</th>\n",
       "    </tr>\n",
       "  </thead>\n",
       "  <tbody>\n",
       "    <tr>\n",
       "      <th>1</th>\n",
       "      <td>Centers for Ocean Sciences Education Excellence ~</td>\n",
       "      <td>National Science Foundation</td>\n",
       "      <td>Directorate for Geosciences (GEO)</td>\n",
       "      <td>The Division of Ocean Sciences seeks to establ...</td>\n",
       "      <td>2002</td>\n",
       "      <td>5.24</td>\n",
       "      <td>7.19</td>\n",
       "      <td>5.70</td>\n",
       "      <td>General STEM</td>\n",
       "      <td>Institutional Capacity: Support advancement an...</td>\n",
       "      <td>0</td>\n",
       "      <td>No</td>\n",
       "      <td>No</td>\n",
       "      <td>Don't know</td>\n",
       "      <td>1.0</td>\n",
       "    </tr>\n",
       "    <tr>\n",
       "      <th>2</th>\n",
       "      <td>Broadening Participation in Computing (BPC)</td>\n",
       "      <td>National Science Foundation</td>\n",
       "      <td>Directorate for Computer &amp; Information Science...</td>\n",
       "      <td>The BPC Program was not primarily aimed at edu...</td>\n",
       "      <td>2006</td>\n",
       "      <td>14.00</td>\n",
       "      <td>14.00</td>\n",
       "      <td>14.00</td>\n",
       "      <td>General STEM</td>\n",
       "      <td>Engagement: Increase learners’ engagement, int...</td>\n",
       "      <td>Pre-K-20 learners</td>\n",
       "      <td>Yes</td>\n",
       "      <td>No</td>\n",
       "      <td>Don't know</td>\n",
       "      <td>1.0</td>\n",
       "    </tr>\n",
       "    <tr>\n",
       "      <th>3</th>\n",
       "      <td>CISE Pathways to Revitalized Undergraduate Com...</td>\n",
       "      <td>National Science Foundation</td>\n",
       "      <td>Directorate for Computer &amp; Information Science...</td>\n",
       "      <td>Through the CISE Pathways to Revitalized Under...</td>\n",
       "      <td>2007</td>\n",
       "      <td>5.00</td>\n",
       "      <td>5.00</td>\n",
       "      <td>4.37</td>\n",
       "      <td>General STEM</td>\n",
       "      <td>Institutional Capacity: Support advancement an...</td>\n",
       "      <td>0</td>\n",
       "      <td>No</td>\n",
       "      <td>No</td>\n",
       "      <td>Don't know</td>\n",
       "      <td>1.0</td>\n",
       "    </tr>\n",
       "    <tr>\n",
       "      <th>4</th>\n",
       "      <td>Opportunities for Enhancing Diversity in the G...</td>\n",
       "      <td>National Science Foundation</td>\n",
       "      <td>Directorate for Geosciences (GEO)</td>\n",
       "      <td>The Opportunities for Enhancing Diversity in t...</td>\n",
       "      <td>2002</td>\n",
       "      <td>4.57</td>\n",
       "      <td>11.79</td>\n",
       "      <td>4.18</td>\n",
       "      <td>General STEM</td>\n",
       "      <td>Engagement: Increase learners’ engagement, int...</td>\n",
       "      <td>Pre-K-20 learners</td>\n",
       "      <td>Yes</td>\n",
       "      <td>No</td>\n",
       "      <td>Don't know</td>\n",
       "      <td>1.0</td>\n",
       "    </tr>\n",
       "    <tr>\n",
       "      <th>5</th>\n",
       "      <td>Geoscience Education</td>\n",
       "      <td>National Science Foundation</td>\n",
       "      <td>Directorate for Geosciences (GEO)</td>\n",
       "      <td>The Geoscience Education (GeoEd) program is fo...</td>\n",
       "      <td>1999</td>\n",
       "      <td>1.63</td>\n",
       "      <td>2.74</td>\n",
       "      <td>2.02</td>\n",
       "      <td>General STEM</td>\n",
       "      <td>Learning: Develop STEM skills, practices, or k...</td>\n",
       "      <td>Pre-K-20 learners</td>\n",
       "      <td>No</td>\n",
       "      <td>No</td>\n",
       "      <td>Don't know</td>\n",
       "      <td>1.0</td>\n",
       "    </tr>\n",
       "  </tbody>\n",
       "</table>\n",
       "</div>"
      ],
      "text/plain": [
       "                                  (Investment Name,)  \\\n",
       "1  Centers for Ocean Sciences Education Excellence ~   \n",
       "2        Broadening Participation in Computing (BPC)   \n",
       "3  CISE Pathways to Revitalized Undergraduate Com...   \n",
       "4  Opportunities for Enhancing Diversity in the G...   \n",
       "5                               Geoscience Education   \n",
       "\n",
       "                     (Agency,)  \\\n",
       "1  National Science Foundation   \n",
       "2  National Science Foundation   \n",
       "3  National Science Foundation   \n",
       "4  National Science Foundation   \n",
       "5  National Science Foundation   \n",
       "\n",
       "                                        (Subagency,)  \\\n",
       "1                  Directorate for Geosciences (GEO)   \n",
       "2  Directorate for Computer & Information Science...   \n",
       "3  Directorate for Computer & Information Science...   \n",
       "4                  Directorate for Geosciences (GEO)   \n",
       "5                  Directorate for Geosciences (GEO)   \n",
       "\n",
       "                             (A) Brief Description,) (B) Year Established,)  \\\n",
       "1  The Division of Ocean Sciences seeks to establ...                   2002   \n",
       "2  The BPC Program was not primarily aimed at edu...                   2006   \n",
       "3  Through the CISE Pathways to Revitalized Under...                   2007   \n",
       "4  The Opportunities for Enhancing Diversity in t...                   2002   \n",
       "5  The Geoscience Education (GeoEd) program is fo...                   1999   \n",
       "\n",
       "   (C1) Funding FY2008,)  (C2) Funding FY2009,)  (C3) Funding FY2010,)  \\\n",
       "1                   5.24                   7.19                   5.70   \n",
       "2                  14.00                  14.00                  14.00   \n",
       "3                   5.00                   5.00                   4.37   \n",
       "4                   4.57                  11.79                   4.18   \n",
       "5                   1.63                   2.74                   2.02   \n",
       "\n",
       "  (D) Mission-specific or General STEM?,)  \\\n",
       "1                            General STEM   \n",
       "2                            General STEM   \n",
       "3                            General STEM   \n",
       "4                            General STEM   \n",
       "5                            General STEM   \n",
       "\n",
       "                 (F1) Primary Investment Objective,)  \\\n",
       "1  Institutional Capacity: Support advancement an...   \n",
       "2  Engagement: Increase learners’ engagement, int...   \n",
       "3  Institutional Capacity: Support advancement an...   \n",
       "4  Engagement: Increase learners’ engagement, int...   \n",
       "5  Learning: Develop STEM skills, practices, or k...   \n",
       "\n",
       "  (I1) STEM Learners Targeted? Specify.,)  \\\n",
       "1                                       0   \n",
       "2                       Pre-K-20 learners   \n",
       "3                                       0   \n",
       "4                       Pre-K-20 learners   \n",
       "5                       Pre-K-20 learners   \n",
       "\n",
       "  (J) Focus on Underrepresented Groups in STEM,)  \\\n",
       "1                                             No   \n",
       "2                                            Yes   \n",
       "3                                             No   \n",
       "4                                            Yes   \n",
       "5                                             No   \n",
       "\n",
       "  (K) Eligibility Restrictions,) (Q) Legislation Required to Shift Focus?,)  \\\n",
       "1                             No                                 Don't know   \n",
       "2                             No                                 Don't know   \n",
       "3                             No                                 Don't know   \n",
       "4                             No                                 Don't know   \n",
       "5                             No                                 Don't know   \n",
       "\n",
       "   target  \n",
       "1     1.0  \n",
       "2     1.0  \n",
       "3     1.0  \n",
       "4     1.0  \n",
       "5     1.0  "
      ]
     },
     "execution_count": 88,
     "metadata": {},
     "output_type": "execute_result"
    }
   ],
   "source": [
    "df.head()"
   ]
  },
  {
   "cell_type": "code",
   "execution_count": null,
   "metadata": {},
   "outputs": [],
   "source": []
  },
  {
   "cell_type": "code",
   "execution_count": 43,
   "metadata": {},
   "outputs": [
    {
     "data": {
      "text/plain": [
       "(254, 15)"
      ]
     },
     "execution_count": 43,
     "metadata": {},
     "output_type": "execute_result"
    }
   ],
   "source": [
    "df.shape"
   ]
  },
  {
   "cell_type": "code",
   "execution_count": 102,
   "metadata": {},
   "outputs": [
    {
     "data": {
      "text/html": [
       "<div>\n",
       "<style>\n",
       "    .dataframe thead tr:only-child th {\n",
       "        text-align: right;\n",
       "    }\n",
       "\n",
       "    .dataframe thead th {\n",
       "        text-align: left;\n",
       "    }\n",
       "\n",
       "    .dataframe tbody tr th {\n",
       "        vertical-align: top;\n",
       "    }\n",
       "</style>\n",
       "<table border=\"1\" class=\"dataframe\">\n",
       "  <thead>\n",
       "    <tr style=\"text-align: right;\">\n",
       "      <th></th>\n",
       "      <th>(Investment Name,)</th>\n",
       "      <th>(Agency,)</th>\n",
       "      <th>(Subagency,)</th>\n",
       "      <th>(A) Brief Description,)</th>\n",
       "      <th>(B) Year Established,)</th>\n",
       "      <th>(C1) Funding FY2008,)</th>\n",
       "      <th>(C2) Funding FY2009,)</th>\n",
       "      <th>(C3) Funding FY2010,)</th>\n",
       "      <th>(D) Mission-specific or General STEM?,)</th>\n",
       "      <th>(F1) Primary Investment Objective,)</th>\n",
       "      <th>(I1) STEM Learners Targeted? Specify.,)</th>\n",
       "      <th>(J) Focus on Underrepresented Groups in STEM,)</th>\n",
       "      <th>(K) Eligibility Restrictions,)</th>\n",
       "      <th>(Q) Legislation Required to Shift Focus?,)</th>\n",
       "      <th>target</th>\n",
       "    </tr>\n",
       "  </thead>\n",
       "  <tbody>\n",
       "    <tr>\n",
       "      <th>1</th>\n",
       "      <td>Centers for Ocean Sciences Education Excellence ~</td>\n",
       "      <td>National Science Foundation</td>\n",
       "      <td>Directorate for Geosciences (GEO)</td>\n",
       "      <td>The Division of Ocean Sciences seeks to establ...</td>\n",
       "      <td>2002</td>\n",
       "      <td>5.24</td>\n",
       "      <td>7.19</td>\n",
       "      <td>5.70</td>\n",
       "      <td>General STEM</td>\n",
       "      <td>Institutional Capacity: Support advancement an...</td>\n",
       "      <td>0</td>\n",
       "      <td>No</td>\n",
       "      <td>No</td>\n",
       "      <td>Don't know</td>\n",
       "      <td>1.0</td>\n",
       "    </tr>\n",
       "    <tr>\n",
       "      <th>2</th>\n",
       "      <td>Broadening Participation in Computing (BPC)</td>\n",
       "      <td>National Science Foundation</td>\n",
       "      <td>Directorate for Computer &amp; Information Science...</td>\n",
       "      <td>The BPC Program was not primarily aimed at edu...</td>\n",
       "      <td>2006</td>\n",
       "      <td>14.00</td>\n",
       "      <td>14.00</td>\n",
       "      <td>14.00</td>\n",
       "      <td>General STEM</td>\n",
       "      <td>Engagement: Increase learners’ engagement, int...</td>\n",
       "      <td>Pre-K-20 learners</td>\n",
       "      <td>Yes</td>\n",
       "      <td>No</td>\n",
       "      <td>Don't know</td>\n",
       "      <td>1.0</td>\n",
       "    </tr>\n",
       "    <tr>\n",
       "      <th>3</th>\n",
       "      <td>CISE Pathways to Revitalized Undergraduate Com...</td>\n",
       "      <td>National Science Foundation</td>\n",
       "      <td>Directorate for Computer &amp; Information Science...</td>\n",
       "      <td>Through the CISE Pathways to Revitalized Under...</td>\n",
       "      <td>2007</td>\n",
       "      <td>5.00</td>\n",
       "      <td>5.00</td>\n",
       "      <td>4.37</td>\n",
       "      <td>General STEM</td>\n",
       "      <td>Institutional Capacity: Support advancement an...</td>\n",
       "      <td>0</td>\n",
       "      <td>No</td>\n",
       "      <td>No</td>\n",
       "      <td>Don't know</td>\n",
       "      <td>1.0</td>\n",
       "    </tr>\n",
       "    <tr>\n",
       "      <th>4</th>\n",
       "      <td>Opportunities for Enhancing Diversity in the G...</td>\n",
       "      <td>National Science Foundation</td>\n",
       "      <td>Directorate for Geosciences (GEO)</td>\n",
       "      <td>The Opportunities for Enhancing Diversity in t...</td>\n",
       "      <td>2002</td>\n",
       "      <td>4.57</td>\n",
       "      <td>11.79</td>\n",
       "      <td>4.18</td>\n",
       "      <td>General STEM</td>\n",
       "      <td>Engagement: Increase learners’ engagement, int...</td>\n",
       "      <td>Pre-K-20 learners</td>\n",
       "      <td>Yes</td>\n",
       "      <td>No</td>\n",
       "      <td>Don't know</td>\n",
       "      <td>1.0</td>\n",
       "    </tr>\n",
       "    <tr>\n",
       "      <th>5</th>\n",
       "      <td>Geoscience Education</td>\n",
       "      <td>National Science Foundation</td>\n",
       "      <td>Directorate for Geosciences (GEO)</td>\n",
       "      <td>The Geoscience Education (GeoEd) program is fo...</td>\n",
       "      <td>1999</td>\n",
       "      <td>1.63</td>\n",
       "      <td>2.74</td>\n",
       "      <td>2.02</td>\n",
       "      <td>General STEM</td>\n",
       "      <td>Learning: Develop STEM skills, practices, or k...</td>\n",
       "      <td>Pre-K-20 learners</td>\n",
       "      <td>No</td>\n",
       "      <td>No</td>\n",
       "      <td>Don't know</td>\n",
       "      <td>1.0</td>\n",
       "    </tr>\n",
       "    <tr>\n",
       "      <th>6</th>\n",
       "      <td>Geoscience Teacher Training (GEO-Teach)</td>\n",
       "      <td>National Science Foundation</td>\n",
       "      <td>Directorate for Geosciences (GEO)</td>\n",
       "      <td>The Geoscience Teacher Training (GEO-Teach) pr...</td>\n",
       "      <td>2006</td>\n",
       "      <td>3.00</td>\n",
       "      <td>3.00</td>\n",
       "      <td>2.98</td>\n",
       "      <td>General STEM</td>\n",
       "      <td>Pre and In Service Educator/Education Leader P...</td>\n",
       "      <td>0</td>\n",
       "      <td>No</td>\n",
       "      <td>No</td>\n",
       "      <td>Don't know</td>\n",
       "      <td>1.0</td>\n",
       "    </tr>\n",
       "    <tr>\n",
       "      <th>7</th>\n",
       "      <td>Global Learning and Observations to Benefit th...</td>\n",
       "      <td>National Science Foundation</td>\n",
       "      <td>Directorate for Geosciences (GEO)</td>\n",
       "      <td>The GLOBE Program is a hands-on international ...</td>\n",
       "      <td>1995</td>\n",
       "      <td>1.10</td>\n",
       "      <td>1.12</td>\n",
       "      <td>1.10</td>\n",
       "      <td>General STEM</td>\n",
       "      <td>Engagement: Increase learners’ engagement, int...</td>\n",
       "      <td>Pre-K-20 learners</td>\n",
       "      <td>No</td>\n",
       "      <td>No</td>\n",
       "      <td>Don't know</td>\n",
       "      <td>1.0</td>\n",
       "    </tr>\n",
       "    <tr>\n",
       "      <th>8</th>\n",
       "      <td>Graduate Research Fellowship Program (GRFP)</td>\n",
       "      <td>National Science Foundation</td>\n",
       "      <td>Directorate for Education and Human Resources ...</td>\n",
       "      <td>The purpose of the NSF Graduate Research Fello...</td>\n",
       "      <td>1952</td>\n",
       "      <td>96.02</td>\n",
       "      <td>162.43</td>\n",
       "      <td>136.13</td>\n",
       "      <td>General STEM</td>\n",
       "      <td>Post-Secondary STEM Degrees: Increase the numb...</td>\n",
       "      <td>Pre-K-20 learners</td>\n",
       "      <td>No</td>\n",
       "      <td>Yes</td>\n",
       "      <td>Don't know</td>\n",
       "      <td>1.0</td>\n",
       "    </tr>\n",
       "    <tr>\n",
       "      <th>9</th>\n",
       "      <td>Integrative Graduate Education and Research Tr...</td>\n",
       "      <td>National Science Foundation</td>\n",
       "      <td>Directorate for Education and Human Resources ...</td>\n",
       "      <td>IGERT is an NSF-wide program intended to meet ...</td>\n",
       "      <td>1997</td>\n",
       "      <td>64.76</td>\n",
       "      <td>77.99</td>\n",
       "      <td>69.70</td>\n",
       "      <td>General STEM</td>\n",
       "      <td>Post-Secondary STEM Degrees: Increase the numb...</td>\n",
       "      <td>Pre-K-20 learners</td>\n",
       "      <td>No</td>\n",
       "      <td>Yes</td>\n",
       "      <td>Don't know</td>\n",
       "      <td>1.0</td>\n",
       "    </tr>\n",
       "    <tr>\n",
       "      <th>10</th>\n",
       "      <td>Graduate Teaching Fellows in K-12 Education (G...</td>\n",
       "      <td>National Science Foundation</td>\n",
       "      <td>Directorate for Education and Human Resources ...</td>\n",
       "      <td>The objectives of the GK-12 program are: 1) to...</td>\n",
       "      <td>1999</td>\n",
       "      <td>54.60</td>\n",
       "      <td>58.84</td>\n",
       "      <td>55.97</td>\n",
       "      <td>General STEM</td>\n",
       "      <td>Learning: Develop STEM skills, practices, or k...</td>\n",
       "      <td>0</td>\n",
       "      <td>No</td>\n",
       "      <td>Yes</td>\n",
       "      <td>Don't know</td>\n",
       "      <td>1.0</td>\n",
       "    </tr>\n",
       "  </tbody>\n",
       "</table>\n",
       "</div>"
      ],
      "text/plain": [
       "                                   (Investment Name,)  \\\n",
       "1   Centers for Ocean Sciences Education Excellence ~   \n",
       "2         Broadening Participation in Computing (BPC)   \n",
       "3   CISE Pathways to Revitalized Undergraduate Com...   \n",
       "4   Opportunities for Enhancing Diversity in the G...   \n",
       "5                                Geoscience Education   \n",
       "6             Geoscience Teacher Training (GEO-Teach)   \n",
       "7   Global Learning and Observations to Benefit th...   \n",
       "8         Graduate Research Fellowship Program (GRFP)   \n",
       "9   Integrative Graduate Education and Research Tr...   \n",
       "10  Graduate Teaching Fellows in K-12 Education (G...   \n",
       "\n",
       "                      (Agency,)  \\\n",
       "1   National Science Foundation   \n",
       "2   National Science Foundation   \n",
       "3   National Science Foundation   \n",
       "4   National Science Foundation   \n",
       "5   National Science Foundation   \n",
       "6   National Science Foundation   \n",
       "7   National Science Foundation   \n",
       "8   National Science Foundation   \n",
       "9   National Science Foundation   \n",
       "10  National Science Foundation   \n",
       "\n",
       "                                         (Subagency,)  \\\n",
       "1                   Directorate for Geosciences (GEO)   \n",
       "2   Directorate for Computer & Information Science...   \n",
       "3   Directorate for Computer & Information Science...   \n",
       "4                   Directorate for Geosciences (GEO)   \n",
       "5                   Directorate for Geosciences (GEO)   \n",
       "6                   Directorate for Geosciences (GEO)   \n",
       "7                   Directorate for Geosciences (GEO)   \n",
       "8   Directorate for Education and Human Resources ...   \n",
       "9   Directorate for Education and Human Resources ...   \n",
       "10  Directorate for Education and Human Resources ...   \n",
       "\n",
       "                              (A) Brief Description,) (B) Year Established,)  \\\n",
       "1   The Division of Ocean Sciences seeks to establ...                   2002   \n",
       "2   The BPC Program was not primarily aimed at edu...                   2006   \n",
       "3   Through the CISE Pathways to Revitalized Under...                   2007   \n",
       "4   The Opportunities for Enhancing Diversity in t...                   2002   \n",
       "5   The Geoscience Education (GeoEd) program is fo...                   1999   \n",
       "6   The Geoscience Teacher Training (GEO-Teach) pr...                   2006   \n",
       "7   The GLOBE Program is a hands-on international ...                   1995   \n",
       "8   The purpose of the NSF Graduate Research Fello...                   1952   \n",
       "9   IGERT is an NSF-wide program intended to meet ...                   1997   \n",
       "10  The objectives of the GK-12 program are: 1) to...                   1999   \n",
       "\n",
       "    (C1) Funding FY2008,)  (C2) Funding FY2009,)  (C3) Funding FY2010,)  \\\n",
       "1                    5.24                   7.19                   5.70   \n",
       "2                   14.00                  14.00                  14.00   \n",
       "3                    5.00                   5.00                   4.37   \n",
       "4                    4.57                  11.79                   4.18   \n",
       "5                    1.63                   2.74                   2.02   \n",
       "6                    3.00                   3.00                   2.98   \n",
       "7                    1.10                   1.12                   1.10   \n",
       "8                   96.02                 162.43                 136.13   \n",
       "9                   64.76                  77.99                  69.70   \n",
       "10                  54.60                  58.84                  55.97   \n",
       "\n",
       "   (D) Mission-specific or General STEM?,)  \\\n",
       "1                             General STEM   \n",
       "2                             General STEM   \n",
       "3                             General STEM   \n",
       "4                             General STEM   \n",
       "5                             General STEM   \n",
       "6                             General STEM   \n",
       "7                             General STEM   \n",
       "8                             General STEM   \n",
       "9                             General STEM   \n",
       "10                            General STEM   \n",
       "\n",
       "                  (F1) Primary Investment Objective,)  \\\n",
       "1   Institutional Capacity: Support advancement an...   \n",
       "2   Engagement: Increase learners’ engagement, int...   \n",
       "3   Institutional Capacity: Support advancement an...   \n",
       "4   Engagement: Increase learners’ engagement, int...   \n",
       "5   Learning: Develop STEM skills, practices, or k...   \n",
       "6   Pre and In Service Educator/Education Leader P...   \n",
       "7   Engagement: Increase learners’ engagement, int...   \n",
       "8   Post-Secondary STEM Degrees: Increase the numb...   \n",
       "9   Post-Secondary STEM Degrees: Increase the numb...   \n",
       "10  Learning: Develop STEM skills, practices, or k...   \n",
       "\n",
       "   (I1) STEM Learners Targeted? Specify.,)  \\\n",
       "1                                        0   \n",
       "2                        Pre-K-20 learners   \n",
       "3                                        0   \n",
       "4                        Pre-K-20 learners   \n",
       "5                        Pre-K-20 learners   \n",
       "6                                        0   \n",
       "7                        Pre-K-20 learners   \n",
       "8                        Pre-K-20 learners   \n",
       "9                        Pre-K-20 learners   \n",
       "10                                       0   \n",
       "\n",
       "   (J) Focus on Underrepresented Groups in STEM,)  \\\n",
       "1                                              No   \n",
       "2                                             Yes   \n",
       "3                                              No   \n",
       "4                                             Yes   \n",
       "5                                              No   \n",
       "6                                              No   \n",
       "7                                              No   \n",
       "8                                              No   \n",
       "9                                              No   \n",
       "10                                             No   \n",
       "\n",
       "   (K) Eligibility Restrictions,) (Q) Legislation Required to Shift Focus?,)  \\\n",
       "1                              No                                 Don't know   \n",
       "2                              No                                 Don't know   \n",
       "3                              No                                 Don't know   \n",
       "4                              No                                 Don't know   \n",
       "5                              No                                 Don't know   \n",
       "6                              No                                 Don't know   \n",
       "7                              No                                 Don't know   \n",
       "8                             Yes                                 Don't know   \n",
       "9                             Yes                                 Don't know   \n",
       "10                            Yes                                 Don't know   \n",
       "\n",
       "    target  \n",
       "1      1.0  \n",
       "2      1.0  \n",
       "3      1.0  \n",
       "4      1.0  \n",
       "5      1.0  \n",
       "6      1.0  \n",
       "7      1.0  \n",
       "8      1.0  \n",
       "9      1.0  \n",
       "10     1.0  "
      ]
     },
     "execution_count": 102,
     "metadata": {},
     "output_type": "execute_result"
    }
   ],
   "source": [
    "df.head(10)"
   ]
  },
  {
   "cell_type": "code",
   "execution_count": 45,
   "metadata": {},
   "outputs": [
    {
     "data": {
      "text/plain": [
       "PROGRAM                                   1\n",
       "Unnamed: 1                                1\n",
       "Unnamed: 2                               16\n",
       "Unnamed: 3                                1\n",
       "FUNDING                                  12\n",
       "Unnamed: 5                               22\n",
       "Unnamed: 6                                9\n",
       "Unnamed: 7                                0\n",
       "Unnamed: 8                                1\n",
       "Primary Objective                         1\n",
       "Audience or Beneficiary                  44\n",
       "Underrepresented or Underserved           1\n",
       "Citizens                                  1\n",
       "Legistative Action to Change Program?     2\n",
       "target                                    1\n",
       "dtype: int64"
      ]
     },
     "execution_count": 45,
     "metadata": {},
     "output_type": "execute_result"
    }
   ],
   "source": [
    "df.isnull().sum()"
   ]
  },
  {
   "cell_type": "code",
   "execution_count": 46,
   "metadata": {},
   "outputs": [],
   "source": [
    "import matplotlib.pyplot as plt # getting matplotlib"
   ]
  },
  {
   "cell_type": "code",
   "execution_count": null,
   "metadata": {},
   "outputs": [],
   "source": []
  },
  {
   "cell_type": "code",
   "execution_count": null,
   "metadata": {
    "collapsed": true
   },
   "outputs": [],
   "source": []
  },
  {
   "cell_type": "code",
   "execution_count": 47,
   "metadata": {},
   "outputs": [
    {
     "data": {
      "text/plain": [
       "Index(['PROGRAM', 'Unnamed: 1', 'Unnamed: 2', 'Unnamed: 3', 'FUNDING',\n",
       "       'Unnamed: 5', 'Unnamed: 6', 'Unnamed: 7', 'Unnamed: 8',\n",
       "       'Primary Objective', 'Audience or Beneficiary',\n",
       "       'Underrepresented or Underserved', 'Citizens',\n",
       "       'Legistative Action to Change Program?', 'target'],\n",
       "      dtype='object')"
      ]
     },
     "execution_count": 47,
     "metadata": {},
     "output_type": "execute_result"
    }
   ],
   "source": [
    "df.columns"
   ]
  },
  {
   "cell_type": "code",
   "execution_count": 48,
   "metadata": {},
   "outputs": [
    {
     "data": {
      "text/plain": [
       "<property at 0x110dfe598>"
      ]
     },
     "execution_count": 48,
     "metadata": {},
     "output_type": "execute_result"
    }
   ],
   "source": [
    "type(df.iloc[0]).shape"
   ]
  },
  {
   "cell_type": "code",
   "execution_count": 51,
   "metadata": {
    "collapsed": true
   },
   "outputs": [],
   "source": [
    "# plotting graphs for all non funding variables\n",
    "def makeGraph(currentList):\n",
    "    if(currentList=='Unnamed: 5'or currentList=='Unnamed: 6' or currentList=='Unnamed: 7'):\n",
    "        return\n",
    "    else:\n",
    "        plt.plot(df[currentList])\n",
    "        plt.show()\n",
    "        \n",
    "        "
   ]
  },
  {
   "cell_type": "code",
   "execution_count": 103,
   "metadata": {},
   "outputs": [],
   "source": [
    "# for i in df:\n",
    "#     makeGraph(i)\n",
    "# gives Error for string data so I have to convert string to intger or float for makeGraph to work"
   ]
  },
  {
   "cell_type": "code",
   "execution_count": 53,
   "metadata": {},
   "outputs": [
    {
     "data": {
      "image/png": "[encoded data removed]",
      "text/plain": [
       "<matplotlib.figure.Figure at 0x118e977b8>"
      ]
     },
     "metadata": {},
     "output_type": "display_data"
    },
    {
     "data": {
      "image/png": "[encoded data removed]",
      "text/plain": [
       "<matplotlib.figure.Figure at 0x118f98e80>"
      ]
     },
     "metadata": {},
     "output_type": "display_data"
    }
   ],
   "source": [
    "df.hist()\n",
    "plt.show()"
   ]
  },
  {
   "cell_type": "code",
   "execution_count": null,
   "metadata": {},
   "outputs": [],
   "source": []
  },
  {
   "cell_type": "markdown",
   "metadata": {},
   "source": [
    "# stage 3\n",
    "### to split data i will be using cross_validation"
   ]
  },
  {
   "cell_type": "code",
   "execution_count": 54,
   "metadata": {},
   "outputs": [
    {
     "name": "stderr",
     "output_type": "stream",
     "text": [
      "/Users/achintyasarkar/anaconda/lib/python3.6/site-packages/sklearn/cross_validation.py:44: DeprecationWarning: This module was deprecated in version 0.18 in favor of the model_selection module into which all the refactored classes and functions are moved. Also note that the interface of the new CV iterators are different from that of this module. This module will be removed in 0.20.\n",
      "  \"This module will be removed in 0.20.\", DeprecationWarning)\n"
     ]
    }
   ],
   "source": [
    "from sklearn import cross_validation\n",
    "from sklearn.model_selection import cross_val_score"
   ]
  },
  {
   "cell_type": "code",
   "execution_count": 55,
   "metadata": {},
   "outputs": [],
   "source": [
    "col_Of_Interest=df.iloc[:,5:8]"
   ]
  },
  {
   "cell_type": "code",
   "execution_count": 56,
   "metadata": {},
   "outputs": [
    {
     "data": {
      "text/plain": [
       "Unnamed: 5    22\n",
       "Unnamed: 6     9\n",
       "Unnamed: 7     0\n",
       "dtype: int64"
      ]
     },
     "execution_count": 56,
     "metadata": {},
     "output_type": "execute_result"
    }
   ],
   "source": [
    "col_Of_Interest.isnull().sum()"
   ]
  },
  {
   "cell_type": "code",
   "execution_count": 57,
   "metadata": {},
   "outputs": [],
   "source": [
    "col_Of_Interest.fillna(0,inplace=True)"
   ]
  },
  {
   "cell_type": "code",
   "execution_count": 58,
   "metadata": {},
   "outputs": [],
   "source": [
    "col_Of_Interest=col_Of_Interest.iloc[1:,:]"
   ]
  },
  {
   "cell_type": "code",
   "execution_count": 85,
   "metadata": {},
   "outputs": [],
   "source": [
    "X_train,X_test,Y_train,Y_test=cross_validation.train_test_split(col_Of_Interest,df.target,test_size=0.3)"
   ]
  },
  {
   "cell_type": "code",
   "execution_count": null,
   "metadata": {},
   "outputs": [],
   "source": []
  },
  {
   "cell_type": "code",
   "execution_count": 65,
   "metadata": {},
   "outputs": [
    {
     "data": {
      "text/plain": [
       "(253, 3)"
      ]
     },
     "execution_count": 65,
     "metadata": {},
     "output_type": "execute_result"
    }
   ],
   "source": [
    "col_Of_Interest.shape"
   ]
  },
  {
   "cell_type": "code",
   "execution_count": 104,
   "metadata": {},
   "outputs": [
    {
     "data": {
      "text/html": [
       "<div>\n",
       "<style>\n",
       "    .dataframe thead tr:only-child th {\n",
       "        text-align: right;\n",
       "    }\n",
       "\n",
       "    .dataframe thead th {\n",
       "        text-align: left;\n",
       "    }\n",
       "\n",
       "    .dataframe tbody tr th {\n",
       "        vertical-align: top;\n",
       "    }\n",
       "</style>\n",
       "<table border=\"1\" class=\"dataframe\">\n",
       "  <thead>\n",
       "    <tr style=\"text-align: right;\">\n",
       "      <th></th>\n",
       "      <th>Unnamed: 5</th>\n",
       "      <th>Unnamed: 6</th>\n",
       "      <th>Unnamed: 7</th>\n",
       "    </tr>\n",
       "  </thead>\n",
       "  <tbody>\n",
       "    <tr>\n",
       "      <th>187</th>\n",
       "      <td>2.047</td>\n",
       "      <td>3.168</td>\n",
       "      <td>4.189</td>\n",
       "    </tr>\n",
       "    <tr>\n",
       "      <th>211</th>\n",
       "      <td>1.6025</td>\n",
       "      <td>1.73863</td>\n",
       "      <td>1.79078</td>\n",
       "    </tr>\n",
       "    <tr>\n",
       "      <th>136</th>\n",
       "      <td>0.75</td>\n",
       "      <td>0.75</td>\n",
       "      <td>0.75</td>\n",
       "    </tr>\n",
       "    <tr>\n",
       "      <th>42</th>\n",
       "      <td>1.8</td>\n",
       "      <td>1.8</td>\n",
       "      <td>1.8</td>\n",
       "    </tr>\n",
       "    <tr>\n",
       "      <th>207</th>\n",
       "      <td>5.17</td>\n",
       "      <td>0</td>\n",
       "      <td>9.26</td>\n",
       "    </tr>\n",
       "    <tr>\n",
       "      <th>196</th>\n",
       "      <td>2.135</td>\n",
       "      <td>2.135</td>\n",
       "      <td>2.24</td>\n",
       "    </tr>\n",
       "    <tr>\n",
       "      <th>176</th>\n",
       "      <td>0.318</td>\n",
       "      <td>0.33</td>\n",
       "      <td>0.695</td>\n",
       "    </tr>\n",
       "    <tr>\n",
       "      <th>34</th>\n",
       "      <td>29.74</td>\n",
       "      <td>31.13</td>\n",
       "      <td>32.06</td>\n",
       "    </tr>\n",
       "    <tr>\n",
       "      <th>140</th>\n",
       "      <td>1.67</td>\n",
       "      <td>1.763</td>\n",
       "      <td>2.449</td>\n",
       "    </tr>\n",
       "    <tr>\n",
       "      <th>24</th>\n",
       "      <td>19.46</td>\n",
       "      <td>26.95</td>\n",
       "      <td>15.07</td>\n",
       "    </tr>\n",
       "    <tr>\n",
       "      <th>51</th>\n",
       "      <td>0.237</td>\n",
       "      <td>0.362</td>\n",
       "      <td>0.595</td>\n",
       "    </tr>\n",
       "    <tr>\n",
       "      <th>135</th>\n",
       "      <td>6.8</td>\n",
       "      <td>6.8</td>\n",
       "      <td>7.8</td>\n",
       "    </tr>\n",
       "    <tr>\n",
       "      <th>2</th>\n",
       "      <td>14</td>\n",
       "      <td>14</td>\n",
       "      <td>14</td>\n",
       "    </tr>\n",
       "    <tr>\n",
       "      <th>120</th>\n",
       "      <td>0</td>\n",
       "      <td>5</td>\n",
       "      <td>5</td>\n",
       "    </tr>\n",
       "    <tr>\n",
       "      <th>224</th>\n",
       "      <td>0.826</td>\n",
       "      <td>0.826</td>\n",
       "      <td>0.838</td>\n",
       "    </tr>\n",
       "    <tr>\n",
       "      <th>115</th>\n",
       "      <td>1.3</td>\n",
       "      <td>1.2</td>\n",
       "      <td>2</td>\n",
       "    </tr>\n",
       "    <tr>\n",
       "      <th>153</th>\n",
       "      <td>4.74</td>\n",
       "      <td>8.944</td>\n",
       "      <td>0</td>\n",
       "    </tr>\n",
       "    <tr>\n",
       "      <th>203</th>\n",
       "      <td>0.263</td>\n",
       "      <td>0</td>\n",
       "      <td>0.756</td>\n",
       "    </tr>\n",
       "    <tr>\n",
       "      <th>189</th>\n",
       "      <td>0.568</td>\n",
       "      <td>0.763</td>\n",
       "      <td>0.568</td>\n",
       "    </tr>\n",
       "    <tr>\n",
       "      <th>218</th>\n",
       "      <td>0</td>\n",
       "      <td>0</td>\n",
       "      <td>3</td>\n",
       "    </tr>\n",
       "    <tr>\n",
       "      <th>191</th>\n",
       "      <td>0.254</td>\n",
       "      <td>0.713</td>\n",
       "      <td>0.821</td>\n",
       "    </tr>\n",
       "    <tr>\n",
       "      <th>33</th>\n",
       "      <td>12.8</td>\n",
       "      <td>13.39</td>\n",
       "      <td>13.35</td>\n",
       "    </tr>\n",
       "    <tr>\n",
       "      <th>122</th>\n",
       "      <td>0</td>\n",
       "      <td>0.7</td>\n",
       "      <td>0.7</td>\n",
       "    </tr>\n",
       "    <tr>\n",
       "      <th>229</th>\n",
       "      <td>0.510895</td>\n",
       "      <td>0.627349</td>\n",
       "      <td>0.739641</td>\n",
       "    </tr>\n",
       "    <tr>\n",
       "      <th>4</th>\n",
       "      <td>4.57</td>\n",
       "      <td>11.79</td>\n",
       "      <td>4.18</td>\n",
       "    </tr>\n",
       "    <tr>\n",
       "      <th>28</th>\n",
       "      <td>64.45</td>\n",
       "      <td>65.72</td>\n",
       "      <td>65.85</td>\n",
       "    </tr>\n",
       "    <tr>\n",
       "      <th>204</th>\n",
       "      <td>1.439</td>\n",
       "      <td>2.879</td>\n",
       "      <td>1.443</td>\n",
       "    </tr>\n",
       "    <tr>\n",
       "      <th>66</th>\n",
       "      <td>0.35</td>\n",
       "      <td>0.35</td>\n",
       "      <td>0.345</td>\n",
       "    </tr>\n",
       "    <tr>\n",
       "      <th>145</th>\n",
       "      <td>2.4533</td>\n",
       "      <td>10.6706</td>\n",
       "      <td>14.6437</td>\n",
       "    </tr>\n",
       "    <tr>\n",
       "      <th>29</th>\n",
       "      <td>1.08</td>\n",
       "      <td>2</td>\n",
       "      <td>1.83</td>\n",
       "    </tr>\n",
       "    <tr>\n",
       "      <th>...</th>\n",
       "      <td>...</td>\n",
       "      <td>...</td>\n",
       "      <td>...</td>\n",
       "    </tr>\n",
       "    <tr>\n",
       "      <th>179</th>\n",
       "      <td>18.57</td>\n",
       "      <td>25.69</td>\n",
       "      <td>24.442</td>\n",
       "    </tr>\n",
       "    <tr>\n",
       "      <th>199</th>\n",
       "      <td>2.096</td>\n",
       "      <td>2.107</td>\n",
       "      <td>2.27</td>\n",
       "    </tr>\n",
       "    <tr>\n",
       "      <th>61</th>\n",
       "      <td>1.282</td>\n",
       "      <td>0.84</td>\n",
       "      <td>0.706</td>\n",
       "    </tr>\n",
       "    <tr>\n",
       "      <th>144</th>\n",
       "      <td>76.295</td>\n",
       "      <td>52.216</td>\n",
       "      <td>63.814</td>\n",
       "    </tr>\n",
       "    <tr>\n",
       "      <th>154</th>\n",
       "      <td>100</td>\n",
       "      <td>100</td>\n",
       "      <td>100</td>\n",
       "    </tr>\n",
       "    <tr>\n",
       "      <th>22</th>\n",
       "      <td>2.29</td>\n",
       "      <td>2.42</td>\n",
       "      <td>1.38</td>\n",
       "    </tr>\n",
       "    <tr>\n",
       "      <th>131</th>\n",
       "      <td>0.37</td>\n",
       "      <td>0.37</td>\n",
       "      <td>0.37</td>\n",
       "    </tr>\n",
       "    <tr>\n",
       "      <th>45</th>\n",
       "      <td>1.42</td>\n",
       "      <td>1.347</td>\n",
       "      <td>1.25</td>\n",
       "    </tr>\n",
       "    <tr>\n",
       "      <th>216</th>\n",
       "      <td>0</td>\n",
       "      <td>0</td>\n",
       "      <td>6.45703</td>\n",
       "    </tr>\n",
       "    <tr>\n",
       "      <th>10</th>\n",
       "      <td>54.6</td>\n",
       "      <td>58.84</td>\n",
       "      <td>55.97</td>\n",
       "    </tr>\n",
       "    <tr>\n",
       "      <th>246</th>\n",
       "      <td>28.72</td>\n",
       "      <td>27.86</td>\n",
       "      <td>20.85</td>\n",
       "    </tr>\n",
       "    <tr>\n",
       "      <th>12</th>\n",
       "      <td>5.09</td>\n",
       "      <td>4.68</td>\n",
       "      <td>9</td>\n",
       "    </tr>\n",
       "    <tr>\n",
       "      <th>89</th>\n",
       "      <td>0</td>\n",
       "      <td>0.4758</td>\n",
       "      <td>0.4301</td>\n",
       "    </tr>\n",
       "    <tr>\n",
       "      <th>14</th>\n",
       "      <td>37.28</td>\n",
       "      <td>40.86</td>\n",
       "      <td>41.6</td>\n",
       "    </tr>\n",
       "    <tr>\n",
       "      <th>245</th>\n",
       "      <td>0.366</td>\n",
       "      <td>0.46</td>\n",
       "      <td>0.625</td>\n",
       "    </tr>\n",
       "    <tr>\n",
       "      <th>30</th>\n",
       "      <td>3.97</td>\n",
       "      <td>5.79</td>\n",
       "      <td>5.41</td>\n",
       "    </tr>\n",
       "    <tr>\n",
       "      <th>16</th>\n",
       "      <td>5.57</td>\n",
       "      <td>5.15</td>\n",
       "      <td>5.18</td>\n",
       "    </tr>\n",
       "    <tr>\n",
       "      <th>121</th>\n",
       "      <td>0.55</td>\n",
       "      <td>0.663</td>\n",
       "      <td>0.84</td>\n",
       "    </tr>\n",
       "    <tr>\n",
       "      <th>105</th>\n",
       "      <td>1.5</td>\n",
       "      <td>1.6</td>\n",
       "      <td>1.6</td>\n",
       "    </tr>\n",
       "    <tr>\n",
       "      <th>98</th>\n",
       "      <td>1.5</td>\n",
       "      <td>1.5</td>\n",
       "      <td>1.5</td>\n",
       "    </tr>\n",
       "    <tr>\n",
       "      <th>158</th>\n",
       "      <td>0.577</td>\n",
       "      <td>0.568</td>\n",
       "      <td>0.426</td>\n",
       "    </tr>\n",
       "    <tr>\n",
       "      <th>114</th>\n",
       "      <td>0</td>\n",
       "      <td>0.316085</td>\n",
       "      <td>0.394403</td>\n",
       "    </tr>\n",
       "    <tr>\n",
       "      <th>103</th>\n",
       "      <td>0.506</td>\n",
       "      <td>0.528</td>\n",
       "      <td>0.447</td>\n",
       "    </tr>\n",
       "    <tr>\n",
       "      <th>244</th>\n",
       "      <td>0.177</td>\n",
       "      <td>0.224</td>\n",
       "      <td>0.363</td>\n",
       "    </tr>\n",
       "    <tr>\n",
       "      <th>1</th>\n",
       "      <td>5.24</td>\n",
       "      <td>7.19</td>\n",
       "      <td>5.7</td>\n",
       "    </tr>\n",
       "    <tr>\n",
       "      <th>125</th>\n",
       "      <td>0.496</td>\n",
       "      <td>0.95</td>\n",
       "      <td>1</td>\n",
       "    </tr>\n",
       "    <tr>\n",
       "      <th>228</th>\n",
       "      <td>6.36</td>\n",
       "      <td>2.976</td>\n",
       "      <td>3.182</td>\n",
       "    </tr>\n",
       "    <tr>\n",
       "      <th>227</th>\n",
       "      <td>2.8</td>\n",
       "      <td>2.9</td>\n",
       "      <td>2.9</td>\n",
       "    </tr>\n",
       "    <tr>\n",
       "      <th>210</th>\n",
       "      <td>26.367</td>\n",
       "      <td>26.316</td>\n",
       "      <td>24.275</td>\n",
       "    </tr>\n",
       "    <tr>\n",
       "      <th>39</th>\n",
       "      <td>0.1441</td>\n",
       "      <td>0.5388</td>\n",
       "      <td>0.3001</td>\n",
       "    </tr>\n",
       "  </tbody>\n",
       "</table>\n",
       "<p>177 rows × 3 columns</p>\n",
       "</div>"
      ],
      "text/plain": [
       "    Unnamed: 5 Unnamed: 6 Unnamed: 7\n",
       "187      2.047      3.168      4.189\n",
       "211     1.6025    1.73863    1.79078\n",
       "136       0.75       0.75       0.75\n",
       "42         1.8        1.8        1.8\n",
       "207       5.17          0       9.26\n",
       "196      2.135      2.135       2.24\n",
       "176      0.318       0.33      0.695\n",
       "34       29.74      31.13      32.06\n",
       "140       1.67      1.763      2.449\n",
       "24       19.46      26.95      15.07\n",
       "51       0.237      0.362      0.595\n",
       "135        6.8        6.8        7.8\n",
       "2           14         14         14\n",
       "120          0          5          5\n",
       "224      0.826      0.826      0.838\n",
       "115        1.3        1.2          2\n",
       "153       4.74      8.944          0\n",
       "203      0.263          0      0.756\n",
       "189      0.568      0.763      0.568\n",
       "218          0          0          3\n",
       "191      0.254      0.713      0.821\n",
       "33        12.8      13.39      13.35\n",
       "122          0        0.7        0.7\n",
       "229   0.510895   0.627349   0.739641\n",
       "4         4.57      11.79       4.18\n",
       "28       64.45      65.72      65.85\n",
       "204      1.439      2.879      1.443\n",
       "66        0.35       0.35      0.345\n",
       "145     2.4533    10.6706    14.6437\n",
       "29        1.08          2       1.83\n",
       "..         ...        ...        ...\n",
       "179      18.57      25.69     24.442\n",
       "199      2.096      2.107       2.27\n",
       "61       1.282       0.84      0.706\n",
       "144     76.295     52.216     63.814\n",
       "154        100        100        100\n",
       "22        2.29       2.42       1.38\n",
       "131       0.37       0.37       0.37\n",
       "45        1.42      1.347       1.25\n",
       "216          0          0    6.45703\n",
       "10        54.6      58.84      55.97\n",
       "246      28.72      27.86      20.85\n",
       "12        5.09       4.68          9\n",
       "89           0     0.4758     0.4301\n",
       "14       37.28      40.86       41.6\n",
       "245      0.366       0.46      0.625\n",
       "30        3.97       5.79       5.41\n",
       "16        5.57       5.15       5.18\n",
       "121       0.55      0.663       0.84\n",
       "105        1.5        1.6        1.6\n",
       "98         1.5        1.5        1.5\n",
       "158      0.577      0.568      0.426\n",
       "114          0   0.316085   0.394403\n",
       "103      0.506      0.528      0.447\n",
       "244      0.177      0.224      0.363\n",
       "1         5.24       7.19        5.7\n",
       "125      0.496       0.95          1\n",
       "228       6.36      2.976      3.182\n",
       "227        2.8        2.9        2.9\n",
       "210     26.367     26.316     24.275\n",
       "39      0.1441     0.5388     0.3001\n",
       "\n",
       "[177 rows x 3 columns]"
      ]
     },
     "execution_count": 104,
     "metadata": {},
     "output_type": "execute_result"
    }
   ],
   "source": [
    "X_train"
   ]
  },
  {
   "cell_type": "code",
   "execution_count": 67,
   "metadata": {},
   "outputs": [],
   "source": [
    "from xgboost import XGBClassifier"
   ]
  },
  {
   "cell_type": "code",
   "execution_count": null,
   "metadata": {
    "collapsed": true
   },
   "outputs": [],
   "source": []
  },
  {
   "cell_type": "code",
   "execution_count": 86,
   "metadata": {
    "collapsed": true
   },
   "outputs": [],
   "source": [
    "clf=XGBClassifier()\n"
   ]
  },
  {
   "cell_type": "code",
   "execution_count": 105,
   "metadata": {},
   "outputs": [
    {
     "data": {
      "text/plain": [
       "LinearRegression(copy_X=True, fit_intercept=True, n_jobs=1, normalize=False)"
      ]
     },
     "execution_count": 105,
     "metadata": {},
     "output_type": "execute_result"
    }
   ],
   "source": [
    "clf.fit(X_train,Y_train)"
   ]
  },
  {
   "cell_type": "code",
   "execution_count": null,
   "metadata": {},
   "outputs": [],
   "source": [
    "Y_train.fillna(1,inplace=True)"
   ]
  },
  {
   "cell_type": "code",
   "execution_count": null,
   "metadata": {},
   "outputs": [],
   "source": [
    "clf.fit(X_train,Y_train)"
   ]
  },
  {
   "cell_type": "code",
   "execution_count": 69,
   "metadata": {},
   "outputs": [],
   "source": [
    "from sklearn.linear_model import LinearRegression"
   ]
  },
  {
   "cell_type": "code",
   "execution_count": 91,
   "metadata": {
    "collapsed": true
   },
   "outputs": [],
   "source": [
    "clf=LinearRegression()"
   ]
  },
  {
   "cell_type": "code",
   "execution_count": 92,
   "metadata": {},
   "outputs": [
    {
     "data": {
      "text/plain": [
       "LinearRegression(copy_X=True, fit_intercept=True, n_jobs=1, normalize=False)"
      ]
     },
     "execution_count": 92,
     "metadata": {},
     "output_type": "execute_result"
    }
   ],
   "source": [
    "clf.fit(X_train,Y_train)"
   ]
  },
  {
   "cell_type": "code",
   "execution_count": 93,
   "metadata": {
    "collapsed": true
   },
   "outputs": [],
   "source": [
    "Y_pred=clf.predict(X_test)"
   ]
  },
  {
   "cell_type": "code",
   "execution_count": null,
   "metadata": {},
   "outputs": [],
   "source": [
    "Y_test"
   ]
  },
  {
   "cell_type": "code",
   "execution_count": 71,
   "metadata": {},
   "outputs": [],
   "source": [
    "colName=df.iloc[0:1,:]"
   ]
  },
  {
   "cell_type": "code",
   "execution_count": null,
   "metadata": {},
   "outputs": [],
   "source": []
  },
  {
   "cell_type": "code",
   "execution_count": 72,
   "metadata": {},
   "outputs": [
    {
     "data": {
      "text/html": [
       "<div>\n",
       "<style>\n",
       "    .dataframe thead tr:only-child th {\n",
       "        text-align: right;\n",
       "    }\n",
       "\n",
       "    .dataframe thead th {\n",
       "        text-align: left;\n",
       "    }\n",
       "\n",
       "    .dataframe tbody tr th {\n",
       "        vertical-align: top;\n",
       "    }\n",
       "</style>\n",
       "<table border=\"1\" class=\"dataframe\">\n",
       "  <thead>\n",
       "    <tr style=\"text-align: right;\">\n",
       "      <th></th>\n",
       "      <th>PROGRAM</th>\n",
       "      <th>Unnamed: 1</th>\n",
       "      <th>Unnamed: 2</th>\n",
       "      <th>Unnamed: 3</th>\n",
       "      <th>FUNDING</th>\n",
       "      <th>Unnamed: 5</th>\n",
       "      <th>Unnamed: 6</th>\n",
       "      <th>Unnamed: 7</th>\n",
       "      <th>Unnamed: 8</th>\n",
       "      <th>Primary Objective</th>\n",
       "      <th>Audience or Beneficiary</th>\n",
       "      <th>Underrepresented or Underserved</th>\n",
       "      <th>Citizens</th>\n",
       "      <th>Legistative Action to Change Program?</th>\n",
       "      <th>target</th>\n",
       "    </tr>\n",
       "  </thead>\n",
       "  <tbody>\n",
       "    <tr>\n",
       "      <th>0</th>\n",
       "      <td>Investment Name</td>\n",
       "      <td>Agency</td>\n",
       "      <td>Subagency</td>\n",
       "      <td>A) Brief Description</td>\n",
       "      <td>B) Year Established</td>\n",
       "      <td>C1) Funding FY2008</td>\n",
       "      <td>C2) Funding FY2009</td>\n",
       "      <td>C3) Funding FY2010</td>\n",
       "      <td>D) Mission-specific or General STEM?</td>\n",
       "      <td>F1) Primary Investment Objective</td>\n",
       "      <td>I1) STEM Learners Targeted? Specify.</td>\n",
       "      <td>J) Focus on Underrepresented Groups in STEM</td>\n",
       "      <td>K) Eligibility Restrictions</td>\n",
       "      <td>Q) Legislation Required to Shift Focus?</td>\n",
       "      <td>NaN</td>\n",
       "    </tr>\n",
       "  </tbody>\n",
       "</table>\n",
       "</div>"
      ],
      "text/plain": [
       "           PROGRAM Unnamed: 1 Unnamed: 2            Unnamed: 3  \\\n",
       "0  Investment Name     Agency  Subagency  A) Brief Description   \n",
       "\n",
       "               FUNDING          Unnamed: 5          Unnamed: 6  \\\n",
       "0  B) Year Established  C1) Funding FY2008  C2) Funding FY2009   \n",
       "\n",
       "           Unnamed: 7                            Unnamed: 8  \\\n",
       "0  C3) Funding FY2010  D) Mission-specific or General STEM?   \n",
       "\n",
       "                  Primary Objective               Audience or Beneficiary  \\\n",
       "0  F1) Primary Investment Objective  I1) STEM Learners Targeted? Specify.   \n",
       "\n",
       "               Underrepresented or Underserved                     Citizens  \\\n",
       "0  J) Focus on Underrepresented Groups in STEM  K) Eligibility Restrictions   \n",
       "\n",
       "     Legistative Action to Change Program?  target  \n",
       "0  Q) Legislation Required to Shift Focus?     NaN  "
      ]
     },
     "execution_count": 72,
     "metadata": {},
     "output_type": "execute_result"
    }
   ],
   "source": [
    "colName"
   ]
  },
  {
   "cell_type": "code",
   "execution_count": 73,
   "metadata": {},
   "outputs": [
    {
     "name": "stderr",
     "output_type": "stream",
     "text": [
      "/Users/achintyasarkar/anaconda/lib/python3.6/site-packages/pandas/core/indexing.py:517: SettingWithCopyWarning: \n",
      "A value is trying to be set on a copy of a slice from a DataFrame.\n",
      "Try using .loc[row_indexer,col_indexer] = value instead\n",
      "\n",
      "See the caveats in the documentation: http://pandas.pydata.org/pandas-docs/stable/indexing.html#indexing-view-versus-copy\n",
      "  self.obj[item] = s\n"
     ]
    }
   ],
   "source": [
    "colName.iloc[:,14]='target'"
   ]
  },
  {
   "cell_type": "code",
   "execution_count": 74,
   "metadata": {},
   "outputs": [
    {
     "data": {
      "text/plain": [
       "(15,)"
      ]
     },
     "execution_count": 74,
     "metadata": {},
     "output_type": "execute_result"
    }
   ],
   "source": [
    "colName.columns.shape"
   ]
  },
  {
   "cell_type": "code",
   "execution_count": 75,
   "metadata": {
    "collapsed": true
   },
   "outputs": [],
   "source": [
    "import numpy as np\n"
   ]
  },
  {
   "cell_type": "code",
   "execution_count": 76,
   "metadata": {
    "collapsed": true
   },
   "outputs": [],
   "source": [
    "colName=np.transpose(colName)"
   ]
  },
  {
   "cell_type": "code",
   "execution_count": 77,
   "metadata": {},
   "outputs": [
    {
     "data": {
      "text/plain": [
       "(15, 1)"
      ]
     },
     "execution_count": 77,
     "metadata": {},
     "output_type": "execute_result"
    }
   ],
   "source": [
    "colName.shape"
   ]
  },
  {
   "cell_type": "code",
   "execution_count": 78,
   "metadata": {
    "collapsed": true
   },
   "outputs": [],
   "source": [
    "df.columns=colName"
   ]
  },
  {
   "cell_type": "code",
   "execution_count": 79,
   "metadata": {},
   "outputs": [],
   "source": [
    "df=df.iloc[1:,:]"
   ]
  },
  {
   "cell_type": "code",
   "execution_count": 80,
   "metadata": {},
   "outputs": [
    {
     "data": {
      "text/plain": [
       "(253, 15)"
      ]
     },
     "execution_count": 80,
     "metadata": {},
     "output_type": "execute_result"
    }
   ],
   "source": [
    "df.shape"
   ]
  },
  {
   "cell_type": "code",
   "execution_count": 82,
   "metadata": {},
   "outputs": [],
   "source": [
    "df.fillna(0,inplace=True)"
   ]
  },
  {
   "cell_type": "code",
   "execution_count": 81,
   "metadata": {},
   "outputs": [],
   "source": [
    "df.columns.values[14]='target'"
   ]
  },
  {
   "cell_type": "code",
   "execution_count": 83,
   "metadata": {},
   "outputs": [
    {
     "data": {
      "text/plain": [
       "Index([                            ('Investment Name',),\n",
       "                                            ('Agency',),\n",
       "                                         ('Subagency',),\n",
       "                              ('A) Brief Description',),\n",
       "                               ('B) Year Established',),\n",
       "                                ('C1) Funding FY2008',),\n",
       "                                ('C2) Funding FY2009',),\n",
       "                                ('C3) Funding FY2010',),\n",
       "              ('D) Mission-specific or General STEM?',),\n",
       "                  ('F1) Primary Investment Objective',),\n",
       "              ('I1) STEM Learners Targeted? Specify.',),\n",
       "       ('J) Focus on Underrepresented Groups in STEM',),\n",
       "                       ('K) Eligibility Restrictions',),\n",
       "           ('Q) Legislation Required to Shift Focus?',),\n",
       "                                               'target'],\n",
       "      dtype='object')"
      ]
     },
     "execution_count": 83,
     "metadata": {},
     "output_type": "execute_result"
    }
   ],
   "source": [
    "df.columns"
   ]
  },
  {
   "cell_type": "code",
   "execution_count": 84,
   "metadata": {},
   "outputs": [
    {
     "data": {
      "text/plain": [
       "1      1.0\n",
       "2      1.0\n",
       "3      1.0\n",
       "4      1.0\n",
       "5      1.0\n",
       "6      1.0\n",
       "7      1.0\n",
       "8      1.0\n",
       "9      1.0\n",
       "10     1.0\n",
       "11     0.0\n",
       "12     0.0\n",
       "13     1.0\n",
       "14     1.0\n",
       "15     1.0\n",
       "16     0.0\n",
       "17     1.0\n",
       "18     1.0\n",
       "19     1.0\n",
       "20     1.0\n",
       "21     0.0\n",
       "22     1.0\n",
       "23     1.0\n",
       "24     1.0\n",
       "25     1.0\n",
       "26     1.0\n",
       "27     1.0\n",
       "28     1.0\n",
       "29     1.0\n",
       "30     1.0\n",
       "      ... \n",
       "224    1.0\n",
       "225    1.0\n",
       "226    1.0\n",
       "227    1.0\n",
       "228    0.0\n",
       "229    1.0\n",
       "230    1.0\n",
       "231    1.0\n",
       "232    1.0\n",
       "233    1.0\n",
       "234    1.0\n",
       "235    1.0\n",
       "236    1.0\n",
       "237    1.0\n",
       "238    1.0\n",
       "239    1.0\n",
       "240    0.0\n",
       "241    0.0\n",
       "242    1.0\n",
       "243    1.0\n",
       "244    1.0\n",
       "245    1.0\n",
       "246    0.0\n",
       "247    0.0\n",
       "248    1.0\n",
       "249    0.0\n",
       "250    1.0\n",
       "251    0.0\n",
       "252    1.0\n",
       "253    1.0\n",
       "Name: target, Length: 253, dtype: float64"
      ]
     },
     "execution_count": 84,
     "metadata": {},
     "output_type": "execute_result"
    }
   ],
   "source": [
    "df.target"
   ]
  },
  {
   "cell_type": "code",
   "execution_count": 107,
   "metadata": {},
   "outputs": [],
   "source": [
    "clf=XGBClassifier()"
   ]
  },
  {
   "cell_type": "code",
   "execution_count": 108,
   "metadata": {},
   "outputs": [
    {
     "ename": "ValueError",
     "evalue": "DataFrame.dtypes for data must be int, float or bool.\nDid not expect the data types in fields Unnamed: 5, Unnamed: 6, Unnamed: 7",
     "output_type": "error",
     "traceback": [
      "\u001b[0;31m---------------------------------------------------------------------------\u001b[0m",
      "\u001b[0;31mValueError\u001b[0m                                Traceback (most recent call last)",
      "\u001b[0;32m<ipython-input-108-d072fe7672f3>\u001b[0m in \u001b[0;36m<module>\u001b[0;34m()\u001b[0m\n\u001b[0;32m----> 1\u001b[0;31m \u001b[0mclf\u001b[0m\u001b[0;34m.\u001b[0m\u001b[0mfit\u001b[0m\u001b[0;34m(\u001b[0m\u001b[0mX_train\u001b[0m\u001b[0;34m,\u001b[0m\u001b[0mY_train\u001b[0m\u001b[0;34m)\u001b[0m\u001b[0;34m\u001b[0m\u001b[0m\n\u001b[0m",
      "\u001b[0;32m/Users/achintyasarkar/anaconda/lib/python3.6/site-packages/xgboost/sklearn.py\u001b[0m in \u001b[0;36mfit\u001b[0;34m(self, X, y, sample_weight, eval_set, eval_metric, early_stopping_rounds, verbose, xgb_model)\u001b[0m\n\u001b[1;32m    498\u001b[0m         \u001b[0;32melse\u001b[0m\u001b[0;34m:\u001b[0m\u001b[0;34m\u001b[0m\u001b[0m\n\u001b[1;32m    499\u001b[0m             train_dmatrix = DMatrix(X, label=training_labels,\n\u001b[0;32m--> 500\u001b[0;31m                                     missing=self.missing, nthread=self.n_jobs)\n\u001b[0m\u001b[1;32m    501\u001b[0m \u001b[0;34m\u001b[0m\u001b[0m\n\u001b[1;32m    502\u001b[0m         self._Booster = train(xgb_options, train_dmatrix, self.n_estimators,\n",
      "\u001b[0;32m/Users/achintyasarkar/anaconda/lib/python3.6/site-packages/xgboost/core.py\u001b[0m in \u001b[0;36m__init__\u001b[0;34m(self, data, label, missing, weight, silent, feature_names, feature_types, nthread)\u001b[0m\n\u001b[1;32m    263\u001b[0m         data, feature_names, feature_types = _maybe_pandas_data(data,\n\u001b[1;32m    264\u001b[0m                                                                 \u001b[0mfeature_names\u001b[0m\u001b[0;34m,\u001b[0m\u001b[0;34m\u001b[0m\u001b[0m\n\u001b[0;32m--> 265\u001b[0;31m                                                                 feature_types)\n\u001b[0m\u001b[1;32m    266\u001b[0m         \u001b[0mlabel\u001b[0m \u001b[0;34m=\u001b[0m \u001b[0m_maybe_pandas_label\u001b[0m\u001b[0;34m(\u001b[0m\u001b[0mlabel\u001b[0m\u001b[0;34m)\u001b[0m\u001b[0;34m\u001b[0m\u001b[0m\n\u001b[1;32m    267\u001b[0m \u001b[0;34m\u001b[0m\u001b[0m\n",
      "\u001b[0;32m/Users/achintyasarkar/anaconda/lib/python3.6/site-packages/xgboost/core.py\u001b[0m in \u001b[0;36m_maybe_pandas_data\u001b[0;34m(data, feature_names, feature_types)\u001b[0m\n\u001b[1;32m    184\u001b[0m         msg = \"\"\"DataFrame.dtypes for data must be int, float or bool.\n\u001b[1;32m    185\u001b[0m Did not expect the data types in fields \"\"\"\n\u001b[0;32m--> 186\u001b[0;31m         \u001b[0;32mraise\u001b[0m \u001b[0mValueError\u001b[0m\u001b[0;34m(\u001b[0m\u001b[0mmsg\u001b[0m \u001b[0;34m+\u001b[0m \u001b[0;34m', '\u001b[0m\u001b[0;34m.\u001b[0m\u001b[0mjoin\u001b[0m\u001b[0;34m(\u001b[0m\u001b[0mbad_fields\u001b[0m\u001b[0;34m)\u001b[0m\u001b[0;34m)\u001b[0m\u001b[0;34m\u001b[0m\u001b[0m\n\u001b[0m\u001b[1;32m    187\u001b[0m \u001b[0;34m\u001b[0m\u001b[0m\n\u001b[1;32m    188\u001b[0m     \u001b[0;32mif\u001b[0m \u001b[0mfeature_names\u001b[0m \u001b[0;32mis\u001b[0m \u001b[0;32mNone\u001b[0m\u001b[0;34m:\u001b[0m\u001b[0;34m\u001b[0m\u001b[0m\n",
      "\u001b[0;31mValueError\u001b[0m: DataFrame.dtypes for data must be int, float or bool.\nDid not expect the data types in fields Unnamed: 5, Unnamed: 6, Unnamed: 7"
     ]
    }
   ],
   "source": [
    "clf.fit(X_train,Y_train)"
   ]
  },
  {
   "cell_type": "code",
   "execution_count": null,
   "metadata": {
    "collapsed": true
   },
   "outputs": [],
   "source": [
    "from sklearn.model_selection import cross_val_score"
   ]
  },
  {
   "cell_type": "code",
   "execution_count": null,
   "metadata": {},
   "outputs": [],
   "source": [
    "score=cross_val_score(clf,X_train,Y_train,cv=5)\n",
    "score"
   ]
  },
  {
   "cell_type": "code",
   "execution_count": null,
   "metadata": {},
   "outputs": [],
   "source": [
    "Y_pred.shape"
   ]
  },
  {
   "cell_type": "code",
   "execution_count": null,
   "metadata": {},
   "outputs": [],
   "source": [
    "Y_test.shape"
   ]
  },
  {
   "cell_type": "code",
   "execution_count": 89,
   "metadata": {
    "collapsed": true
   },
   "outputs": [],
   "source": [
    "from sklearn.metrics import roc_auc_score  "
   ]
  },
  {
   "cell_type": "code",
   "execution_count": 94,
   "metadata": {},
   "outputs": [
    {
     "data": {
      "text/plain": [
       "0.7803921568627451"
      ]
     },
     "execution_count": 94,
     "metadata": {},
     "output_type": "execute_result"
    }
   ],
   "source": [
    "roc_auc_score(Y_test,Y_pred)  # using the linear regression classifier "
   ]
  },
  {
   "cell_type": "code",
   "execution_count": 97,
   "metadata": {
    "collapsed": true
   },
   "outputs": [],
   "source": []
  },
  {
   "cell_type": "code",
   "execution_count": null,
   "metadata": {
    "collapsed": true
   },
   "outputs": [],
   "source": [
    "# code for working XGBOOST \n",
    "\n",
    "# This script shows you how to make a submission using a few\n",
    "# useful Python libraries.\n",
    "# It gets a public leaderboard score of 0.76077.\n",
    "\n",
    "import pandas as pd\n",
    "import xgboost as xgb\n",
    "from sklearn.preprocessing import LabelEncoder\n",
    "import numpy as np\n",
    "\n",
    "# Load the data\n",
    "#train_df = pd.read_csv('../input/train.csv', header=0)\n",
    "#test_df = pd.read_csv('../input/test.csv', header=0)\n",
    "X_test\n",
    "Y_test\n",
    "X_train\n",
    "Y_train\n",
    "\n",
    "# We'll impute missing values using the median for numeric columns and the most\n",
    "# common value for string columns.\n",
    "# This is based on some nice code by 'sveitser' at http://stackoverflow.com/a/25562948\n",
    "from sklearn.base import TransformerMixin\n",
    "class DataFrameImputer(TransformerMixin):\n",
    "    def fit(self, X, y=None):\n",
    "        self.fill = pd.Series([X[c].value_counts().index[0]\n",
    "            if X[c].dtype == np.dtype('O') else X[c].median() for c in X],\n",
    "            index=X.columns)\n",
    "        return self\n",
    "    def transform(self, X, y=None):\n",
    "        return X.fillna(self.fill)\n",
    "\n",
    "feature_columns_to_use = ['Pclass','Sex','Age','Fare','Parch']\n",
    "nonnumeric_columns = ['Sex']\n",
    "\n",
    "# Join the features from train and test together before imputing missing values,\n",
    "# in case their distribution is slightly different\n",
    "big_X = train_df[feature_columns_to_use].append(test_df[feature_columns_to_use])\n",
    "big_X_imputed = DataFrameImputer().fit_transform(big_X)\n",
    "\n",
    "# XGBoost doesn't (yet) handle categorical features automatically, so we need to change\n",
    "# them to columns of integer values.\n",
    "# See http://scikit-learn.org/stable/modules/preprocessing.html#preprocessing for more\n",
    "# details and options\n",
    "le = LabelEncoder()\n",
    "for feature in nonnumeric_columns:\n",
    "    big_X_imputed[feature] = le.fit_transform(big_X_imputed[feature])\n",
    "\n",
    "# Prepare the inputs for the model\n",
    "train_X = big_X_imputed[0:train_df.shape[0]].as_matrix()\n",
    "test_X = big_X_imputed[train_df.shape[0]::].as_matrix()\n",
    "train_y = train_df['Survived']\n",
    "\n",
    "# You can experiment with many other options here, using the same .fit() and .predict()\n",
    "# methods; see http://scikit-learn.org\n",
    "# This example uses the current build of XGBoost, from https://github.com/dmlc/xgboost\n",
    "gbm = xgb.XGBClassifier(max_depth=3, n_estimators=300, learning_rate=0.05).fit(train_X, train_y)\n",
    "predictions = gbm.predict(test_X)\n",
    "\n",
    "# Kaggle needs the submission to have a certain format;\n",
    "# see https://www.kaggle.com/c/titanic-gettingStarted/download/gendermodel.csv\n",
    "# for an example of what it's supposed to look like.\n",
    "submission = pd.DataFrame({ 'PassengerId': test_df['PassengerId'],\n",
    "                            'Survived': predictions })\n",
    "submission.to_csv(\"submission.csv\", index=False)\n",
    "\n",
    "# xg boost not working for \"object\" which includes string  data and it  will have to be converted "
   ]
  },
  {
   "cell_type": "code",
   "execution_count": 99,
   "metadata": {},
   "outputs": [],
   "source": [
    "import pytest # running the pytest "
   ]
  },
  {
   "cell_type": "code",
   "execution_count": 145,
   "metadata": {},
   "outputs": [],
   "source": [
    "def test_getCleanData():\n",
    "    assert all(getCleanData(df.target))==df.target"
   ]
  },
  {
   "cell_type": "code",
   "execution_count": 146,
   "metadata": {},
   "outputs": [],
   "source": [
    "def test_generateTarget():\n",
    "    assert generateTarget(10)==1"
   ]
  },
  {
   "cell_type": "code",
   "execution_count": 148,
   "metadata": {},
   "outputs": [],
   "source": [
    "test_generateTarget()"
   ]
  },
  {
   "cell_type": "code",
   "execution_count": null,
   "metadata": {},
   "outputs": [],
   "source": []
  },
  {
   "cell_type": "code",
   "execution_count": null,
   "metadata": {
    "collapsed": true
   },
   "outputs": [],
   "source": []
  }
 ],
 "metadata": {
  "kernelspec": {
   "display_name": "Python 3",
   "language": "python",
   "name": "python3"
  },
  "language_info": {
   "codemirror_mode": {
    "name": "ipython",
    "version": 3
   },
   "file_extension": ".py",
   "mimetype": "text/x-python",
   "name": "python",
   "nbconvert_exporter": "python",
   "pygments_lexer": "ipython3",
   "version": "3.6.1"
  }
 },
 "nbformat": 4,
 "nbformat_minor": 2
}
